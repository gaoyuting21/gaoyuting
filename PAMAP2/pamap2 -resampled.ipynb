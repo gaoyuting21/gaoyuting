{
 "cells": [
  {
   "cell_type": "markdown",
   "metadata": {},
   "source": [
    "# Read the data"
   ]
  },
  {
   "cell_type": "code",
   "execution_count": 1,
   "metadata": {},
   "outputs": [],
   "source": [
    "import hpbandster"
   ]
  },
  {
   "cell_type": "code",
   "execution_count": 2,
   "metadata": {},
   "outputs": [],
   "source": [
    "from collections import Counter"
   ]
  },
  {
   "cell_type": "code",
   "execution_count": 3,
   "metadata": {
    "scrolled": true
   },
   "outputs": [],
   "source": [
    "from imblearn.over_sampling import SMOTE"
   ]
  },
  {
   "cell_type": "code",
   "execution_count": 4,
   "metadata": {},
   "outputs": [],
   "source": [
    "import pandas as pd\n",
    "import numpy as np\n",
    "import tensorflow as tf\n",
    "import matplotlib.pyplot as plt\n",
    "import os"
   ]
  },
  {
   "cell_type": "code",
   "execution_count": 5,
   "metadata": {},
   "outputs": [],
   "source": [
    "train = pd.read_csv('./Train_resampeled.csv',sep = ',')\n",
    "vali = pd.read_csv('./vali.csv',sep = ',')\n",
    "test = pd.read_csv('./test.csv',sep = ',')"
   ]
  },
  {
   "cell_type": "code",
   "execution_count": 6,
   "metadata": {},
   "outputs": [
    {
     "data": {
      "text/html": [
       "<div>\n",
       "<style scoped>\n",
       "    .dataframe tbody tr th:only-of-type {\n",
       "        vertical-align: middle;\n",
       "    }\n",
       "\n",
       "    .dataframe tbody tr th {\n",
       "        vertical-align: top;\n",
       "    }\n",
       "\n",
       "    .dataframe thead th {\n",
       "        text-align: right;\n",
       "    }\n",
       "</style>\n",
       "<table border=\"1\" class=\"dataframe\">\n",
       "  <thead>\n",
       "    <tr style=\"text-align: right;\">\n",
       "      <th></th>\n",
       "      <th>heart_rate</th>\n",
       "      <th>F1</th>\n",
       "      <th>F2</th>\n",
       "      <th>F3</th>\n",
       "      <th>F4</th>\n",
       "      <th>F5</th>\n",
       "      <th>F6</th>\n",
       "      <th>F7</th>\n",
       "      <th>F8</th>\n",
       "      <th>F9</th>\n",
       "      <th>...</th>\n",
       "      <th>F9_diff</th>\n",
       "      <th>F10_diff</th>\n",
       "      <th>F11_diff</th>\n",
       "      <th>F12_diff</th>\n",
       "      <th>F13_diff</th>\n",
       "      <th>F14_diff</th>\n",
       "      <th>F15_diff</th>\n",
       "      <th>F16_diff</th>\n",
       "      <th>F17_diff</th>\n",
       "      <th>id_n</th>\n",
       "    </tr>\n",
       "  </thead>\n",
       "  <tbody>\n",
       "    <tr>\n",
       "      <td>0</td>\n",
       "      <td>-0.293389</td>\n",
       "      <td>-1.596303</td>\n",
       "      <td>1.082171</td>\n",
       "      <td>0.626207</td>\n",
       "      <td>0.495311</td>\n",
       "      <td>1.077173</td>\n",
       "      <td>0.699129</td>\n",
       "      <td>0.493859</td>\n",
       "      <td>-0.000798</td>\n",
       "      <td>-0.015046</td>\n",
       "      <td>...</td>\n",
       "      <td>0.000006</td>\n",
       "      <td>-6.890044e-07</td>\n",
       "      <td>0.000022</td>\n",
       "      <td>-0.000102</td>\n",
       "      <td>0.000085</td>\n",
       "      <td>0.000047</td>\n",
       "      <td>0.000038</td>\n",
       "      <td>-0.000060</td>\n",
       "      <td>-0.000027</td>\n",
       "      <td>0</td>\n",
       "    </tr>\n",
       "    <tr>\n",
       "      <td>1</td>\n",
       "      <td>-0.293389</td>\n",
       "      <td>-1.596303</td>\n",
       "      <td>1.094032</td>\n",
       "      <td>0.550627</td>\n",
       "      <td>0.534407</td>\n",
       "      <td>1.081335</td>\n",
       "      <td>0.645581</td>\n",
       "      <td>0.497862</td>\n",
       "      <td>-0.131029</td>\n",
       "      <td>-0.027897</td>\n",
       "      <td>...</td>\n",
       "      <td>-0.007734</td>\n",
       "      <td>5.759856e-04</td>\n",
       "      <td>0.041374</td>\n",
       "      <td>-0.001810</td>\n",
       "      <td>-0.087703</td>\n",
       "      <td>0.000047</td>\n",
       "      <td>0.000038</td>\n",
       "      <td>-0.000060</td>\n",
       "      <td>-0.000027</td>\n",
       "      <td>0</td>\n",
       "    </tr>\n",
       "    <tr>\n",
       "      <td>2</td>\n",
       "      <td>-0.293389</td>\n",
       "      <td>-1.596303</td>\n",
       "      <td>1.093868</td>\n",
       "      <td>0.484495</td>\n",
       "      <td>0.554000</td>\n",
       "      <td>1.080704</td>\n",
       "      <td>0.582150</td>\n",
       "      <td>0.498131</td>\n",
       "      <td>-0.182925</td>\n",
       "      <td>-0.043047</td>\n",
       "      <td>...</td>\n",
       "      <td>-0.016860</td>\n",
       "      <td>4.297381e-03</td>\n",
       "      <td>0.007845</td>\n",
       "      <td>0.035046</td>\n",
       "      <td>0.044016</td>\n",
       "      <td>0.000047</td>\n",
       "      <td>0.000038</td>\n",
       "      <td>-0.000060</td>\n",
       "      <td>-0.000027</td>\n",
       "      <td>0</td>\n",
       "    </tr>\n",
       "    <tr>\n",
       "      <td>3</td>\n",
       "      <td>-0.293389</td>\n",
       "      <td>-1.596303</td>\n",
       "      <td>1.082589</td>\n",
       "      <td>0.484651</td>\n",
       "      <td>0.572879</td>\n",
       "      <td>1.073279</td>\n",
       "      <td>0.528683</td>\n",
       "      <td>0.521092</td>\n",
       "      <td>-0.147567</td>\n",
       "      <td>-0.034721</td>\n",
       "      <td>...</td>\n",
       "      <td>-0.011845</td>\n",
       "      <td>8.799217e-03</td>\n",
       "      <td>0.063223</td>\n",
       "      <td>0.032597</td>\n",
       "      <td>-0.054896</td>\n",
       "      <td>0.000047</td>\n",
       "      <td>0.000038</td>\n",
       "      <td>-0.000060</td>\n",
       "      <td>-0.000027</td>\n",
       "      <td>0</td>\n",
       "    </tr>\n",
       "    <tr>\n",
       "      <td>4</td>\n",
       "      <td>-0.293389</td>\n",
       "      <td>-1.596303</td>\n",
       "      <td>1.095440</td>\n",
       "      <td>0.498977</td>\n",
       "      <td>0.620970</td>\n",
       "      <td>1.071020</td>\n",
       "      <td>0.526723</td>\n",
       "      <td>0.540042</td>\n",
       "      <td>-0.051664</td>\n",
       "      <td>-0.074420</td>\n",
       "      <td>...</td>\n",
       "      <td>-0.035758</td>\n",
       "      <td>5.643594e-03</td>\n",
       "      <td>0.014267</td>\n",
       "      <td>0.049558</td>\n",
       "      <td>-0.010278</td>\n",
       "      <td>0.000047</td>\n",
       "      <td>0.000038</td>\n",
       "      <td>-0.000060</td>\n",
       "      <td>-0.000027</td>\n",
       "      <td>0</td>\n",
       "    </tr>\n",
       "    <tr>\n",
       "      <td>...</td>\n",
       "      <td>...</td>\n",
       "      <td>...</td>\n",
       "      <td>...</td>\n",
       "      <td>...</td>\n",
       "      <td>...</td>\n",
       "      <td>...</td>\n",
       "      <td>...</td>\n",
       "      <td>...</td>\n",
       "      <td>...</td>\n",
       "      <td>...</td>\n",
       "      <td>...</td>\n",
       "      <td>...</td>\n",
       "      <td>...</td>\n",
       "      <td>...</td>\n",
       "      <td>...</td>\n",
       "      <td>...</td>\n",
       "      <td>...</td>\n",
       "      <td>...</td>\n",
       "      <td>...</td>\n",
       "      <td>...</td>\n",
       "      <td>...</td>\n",
       "    </tr>\n",
       "    <tr>\n",
       "      <td>1932660</td>\n",
       "      <td>-0.990707</td>\n",
       "      <td>0.227695</td>\n",
       "      <td>0.283188</td>\n",
       "      <td>-0.329295</td>\n",
       "      <td>1.874324</td>\n",
       "      <td>0.288860</td>\n",
       "      <td>-0.342128</td>\n",
       "      <td>1.899203</td>\n",
       "      <td>0.419458</td>\n",
       "      <td>-0.493227</td>\n",
       "      <td>...</td>\n",
       "      <td>-0.368439</td>\n",
       "      <td>-3.955486e-01</td>\n",
       "      <td>-0.101137</td>\n",
       "      <td>-0.175235</td>\n",
       "      <td>-0.028186</td>\n",
       "      <td>-0.373321</td>\n",
       "      <td>-0.074700</td>\n",
       "      <td>0.171876</td>\n",
       "      <td>0.068398</td>\n",
       "      <td>6</td>\n",
       "    </tr>\n",
       "    <tr>\n",
       "      <td>1932661</td>\n",
       "      <td>-0.572316</td>\n",
       "      <td>0.957295</td>\n",
       "      <td>-0.145139</td>\n",
       "      <td>-0.378209</td>\n",
       "      <td>0.969388</td>\n",
       "      <td>-0.117473</td>\n",
       "      <td>-0.410484</td>\n",
       "      <td>0.970611</td>\n",
       "      <td>-0.700480</td>\n",
       "      <td>-0.041169</td>\n",
       "      <td>...</td>\n",
       "      <td>-0.046492</td>\n",
       "      <td>3.013956e-01</td>\n",
       "      <td>-0.890420</td>\n",
       "      <td>-0.509617</td>\n",
       "      <td>-0.797671</td>\n",
       "      <td>-2.633374</td>\n",
       "      <td>0.343844</td>\n",
       "      <td>0.278192</td>\n",
       "      <td>-1.037099</td>\n",
       "      <td>6</td>\n",
       "    </tr>\n",
       "    <tr>\n",
       "      <td>1932662</td>\n",
       "      <td>-0.607182</td>\n",
       "      <td>1.358575</td>\n",
       "      <td>0.776464</td>\n",
       "      <td>0.369185</td>\n",
       "      <td>0.509236</td>\n",
       "      <td>0.814550</td>\n",
       "      <td>0.522653</td>\n",
       "      <td>0.627493</td>\n",
       "      <td>2.340747</td>\n",
       "      <td>-0.857353</td>\n",
       "      <td>...</td>\n",
       "      <td>-0.919119</td>\n",
       "      <td>-1.780967e-01</td>\n",
       "      <td>0.067390</td>\n",
       "      <td>0.899992</td>\n",
       "      <td>-1.427978</td>\n",
       "      <td>1.519997</td>\n",
       "      <td>0.273182</td>\n",
       "      <td>-0.838990</td>\n",
       "      <td>0.042014</td>\n",
       "      <td>6</td>\n",
       "    </tr>\n",
       "    <tr>\n",
       "      <td>1932663</td>\n",
       "      <td>0.264466</td>\n",
       "      <td>0.519535</td>\n",
       "      <td>-0.739429</td>\n",
       "      <td>0.214571</td>\n",
       "      <td>-0.821217</td>\n",
       "      <td>-0.723633</td>\n",
       "      <td>0.325109</td>\n",
       "      <td>-1.322911</td>\n",
       "      <td>0.567056</td>\n",
       "      <td>0.091180</td>\n",
       "      <td>...</td>\n",
       "      <td>-0.492556</td>\n",
       "      <td>-7.577915e-02</td>\n",
       "      <td>0.248521</td>\n",
       "      <td>0.495615</td>\n",
       "      <td>0.417057</td>\n",
       "      <td>-0.452327</td>\n",
       "      <td>0.316306</td>\n",
       "      <td>-0.437469</td>\n",
       "      <td>0.412535</td>\n",
       "      <td>6</td>\n",
       "    </tr>\n",
       "    <tr>\n",
       "      <td>1932664</td>\n",
       "      <td>-1.165037</td>\n",
       "      <td>0.373615</td>\n",
       "      <td>0.750231</td>\n",
       "      <td>0.716999</td>\n",
       "      <td>-0.345146</td>\n",
       "      <td>0.757029</td>\n",
       "      <td>0.773706</td>\n",
       "      <td>-0.357201</td>\n",
       "      <td>-0.064203</td>\n",
       "      <td>-0.384627</td>\n",
       "      <td>...</td>\n",
       "      <td>0.624168</td>\n",
       "      <td>-6.791205e-02</td>\n",
       "      <td>-0.697354</td>\n",
       "      <td>-0.097690</td>\n",
       "      <td>1.344107</td>\n",
       "      <td>-0.216225</td>\n",
       "      <td>0.817761</td>\n",
       "      <td>0.924739</td>\n",
       "      <td>-0.244689</td>\n",
       "      <td>6</td>\n",
       "    </tr>\n",
       "  </tbody>\n",
       "</table>\n",
       "<p>1932665 rows × 37 columns</p>\n",
       "</div>"
      ],
      "text/plain": [
       "         heart_rate        F1        F2        F3        F4        F5  \\\n",
       "0         -0.293389 -1.596303  1.082171  0.626207  0.495311  1.077173   \n",
       "1         -0.293389 -1.596303  1.094032  0.550627  0.534407  1.081335   \n",
       "2         -0.293389 -1.596303  1.093868  0.484495  0.554000  1.080704   \n",
       "3         -0.293389 -1.596303  1.082589  0.484651  0.572879  1.073279   \n",
       "4         -0.293389 -1.596303  1.095440  0.498977  0.620970  1.071020   \n",
       "...             ...       ...       ...       ...       ...       ...   \n",
       "1932660   -0.990707  0.227695  0.283188 -0.329295  1.874324  0.288860   \n",
       "1932661   -0.572316  0.957295 -0.145139 -0.378209  0.969388 -0.117473   \n",
       "1932662   -0.607182  1.358575  0.776464  0.369185  0.509236  0.814550   \n",
       "1932663    0.264466  0.519535 -0.739429  0.214571 -0.821217 -0.723633   \n",
       "1932664   -1.165037  0.373615  0.750231  0.716999 -0.345146  0.757029   \n",
       "\n",
       "               F6        F7        F8        F9  ...   F9_diff      F10_diff  \\\n",
       "0        0.699129  0.493859 -0.000798 -0.015046  ...  0.000006 -6.890044e-07   \n",
       "1        0.645581  0.497862 -0.131029 -0.027897  ... -0.007734  5.759856e-04   \n",
       "2        0.582150  0.498131 -0.182925 -0.043047  ... -0.016860  4.297381e-03   \n",
       "3        0.528683  0.521092 -0.147567 -0.034721  ... -0.011845  8.799217e-03   \n",
       "4        0.526723  0.540042 -0.051664 -0.074420  ... -0.035758  5.643594e-03   \n",
       "...           ...       ...       ...       ...  ...       ...           ...   \n",
       "1932660 -0.342128  1.899203  0.419458 -0.493227  ... -0.368439 -3.955486e-01   \n",
       "1932661 -0.410484  0.970611 -0.700480 -0.041169  ... -0.046492  3.013956e-01   \n",
       "1932662  0.522653  0.627493  2.340747 -0.857353  ... -0.919119 -1.780967e-01   \n",
       "1932663  0.325109 -1.322911  0.567056  0.091180  ... -0.492556 -7.577915e-02   \n",
       "1932664  0.773706 -0.357201 -0.064203 -0.384627  ...  0.624168 -6.791205e-02   \n",
       "\n",
       "         F11_diff  F12_diff  F13_diff  F14_diff  F15_diff  F16_diff  F17_diff  \\\n",
       "0        0.000022 -0.000102  0.000085  0.000047  0.000038 -0.000060 -0.000027   \n",
       "1        0.041374 -0.001810 -0.087703  0.000047  0.000038 -0.000060 -0.000027   \n",
       "2        0.007845  0.035046  0.044016  0.000047  0.000038 -0.000060 -0.000027   \n",
       "3        0.063223  0.032597 -0.054896  0.000047  0.000038 -0.000060 -0.000027   \n",
       "4        0.014267  0.049558 -0.010278  0.000047  0.000038 -0.000060 -0.000027   \n",
       "...           ...       ...       ...       ...       ...       ...       ...   \n",
       "1932660 -0.101137 -0.175235 -0.028186 -0.373321 -0.074700  0.171876  0.068398   \n",
       "1932661 -0.890420 -0.509617 -0.797671 -2.633374  0.343844  0.278192 -1.037099   \n",
       "1932662  0.067390  0.899992 -1.427978  1.519997  0.273182 -0.838990  0.042014   \n",
       "1932663  0.248521  0.495615  0.417057 -0.452327  0.316306 -0.437469  0.412535   \n",
       "1932664 -0.697354 -0.097690  1.344107 -0.216225  0.817761  0.924739 -0.244689   \n",
       "\n",
       "         id_n  \n",
       "0           0  \n",
       "1           0  \n",
       "2           0  \n",
       "3           0  \n",
       "4           0  \n",
       "...       ...  \n",
       "1932660     6  \n",
       "1932661     6  \n",
       "1932662     6  \n",
       "1932663     6  \n",
       "1932664     6  \n",
       "\n",
       "[1932665 rows x 37 columns]"
      ]
     },
     "execution_count": 6,
     "metadata": {},
     "output_type": "execute_result"
    }
   ],
   "source": [
    "train"
   ]
  },
  {
   "cell_type": "markdown",
   "metadata": {},
   "source": [
    "# batch_generator"
   ]
  },
  {
   "cell_type": "code",
   "execution_count": 7,
   "metadata": {},
   "outputs": [],
   "source": [
    "def batch_generator_1(data, sequence_length=15, window_size = 10, sliding = 10):\n",
    "    #batch_number = data.shape[0]/(sequence_length+window_size-1)\n",
    "    feature_number = data.shape[1]-1\n",
    "    window_number = int((data.shape[0]-window_size)/sliding)\n",
    "    temp_shape = (window_number, window_size, data.shape[1])\n",
    "    temp = np.zeros(shape=temp_shape, dtype=np.float32)\n",
    "    for window in range(window_number):\n",
    "        temp[window] = data.iloc[window*sliding:window*sliding+window_size,:]\n",
    "        \n",
    "    return temp\n",
    "\n",
    "def batch_generator(temp,sequence_length,window_size):\n",
    "    feature_number = temp.shape[2]-1\n",
    "    batch_number = int(temp.shape[0]/sequence_length)\n",
    "    x_shape = (batch_number, sequence_length, window_size, feature_number)\n",
    "    x_batch = np.zeros(shape=x_shape, dtype=np.float32)\n",
    "    y_shape = (batch_number, sequence_length, window_size)\n",
    "    y_batch = np.zeros(shape=y_shape, dtype=np.float32)\n",
    "    for Batch in range(batch_number):\n",
    "        for seq in range(sequence_length):\n",
    "            x_batch[Batch,seq] = temp[Batch*sequence_length+seq,:,:-1]\n",
    "            #y_batch[Batch] = max(temp[Batch*sequence_length:Batch*sequence_length-1,:,-1],key=temp[Batch*sequence_length:Batch*sequence_length-1,:,-1].tolist().count)\n",
    "            y_batch[Batch,seq] = temp[Batch*sequence_length+seq,:,-1]\n",
    "    return x_batch, y_batch"
   ]
  },
  {
   "cell_type": "code",
   "execution_count": 8,
   "metadata": {},
   "outputs": [],
   "source": [
    "sequence_length = 20\n",
    "window_size = 109\n",
    "kernel_size = 3\n",
    "sliding = 5"
   ]
  },
  {
   "cell_type": "code",
   "execution_count": 9,
   "metadata": {
    "scrolled": true
   },
   "outputs": [],
   "source": [
    "train = batch_generator_1(train,sequence_length=sequence_length, window_size=window_size,sliding = sliding)"
   ]
  },
  {
   "cell_type": "code",
   "execution_count": 10,
   "metadata": {},
   "outputs": [
    {
     "data": {
      "text/plain": [
       "(386511, 109, 37)"
      ]
     },
     "execution_count": 10,
     "metadata": {},
     "output_type": "execute_result"
    }
   ],
   "source": [
    "train.shape"
   ]
  },
  {
   "cell_type": "code",
   "execution_count": 11,
   "metadata": {
    "scrolled": true
   },
   "outputs": [],
   "source": [
    "x_batch, y_batch= batch_generator(train,sequence_length=sequence_length, window_size=window_size)\n",
    "x_batch = np.expand_dims(x_batch, axis=4)"
   ]
  },
  {
   "cell_type": "code",
   "execution_count": 12,
   "metadata": {},
   "outputs": [
    {
     "data": {
      "text/plain": [
       "(19325, 20, 109, 36, 1)"
      ]
     },
     "execution_count": 12,
     "metadata": {},
     "output_type": "execute_result"
    }
   ],
   "source": [
    "x_batch.shape"
   ]
  },
  {
   "cell_type": "code",
   "execution_count": 13,
   "metadata": {},
   "outputs": [],
   "source": [
    "def y_batch_generator(y_batch,sequence_length=15,num_classes=7):\n",
    "    batch_number = y_batch.shape[0]\n",
    "    y_batch_n = y_batch\n",
    "    y_shape = (batch_number, sequence_length)\n",
    "    y_new = np.zeros(shape=y_shape, dtype=np.float32)\n",
    "    y_batch_new_shape = (batch_number,sequence_length,num_classes)\n",
    "    y_batch_new = np.zeros(shape=y_batch_new_shape, dtype=np.float32)\n",
    "    y_temp = y_batch_n.tolist()\n",
    "    for batch in range(batch_number):\n",
    "        for seq in range(sequence_length):\n",
    "            temp_1 = list(Counter(y_temp[batch][seq]).most_common(1))\n",
    "            y_new[batch,seq]=list(temp_1[0])[0]\n",
    "        y_batch_new[batch] = tf.keras.utils.to_categorical(y_new[batch],num_classes=num_classes)\n",
    "        \n",
    "    return y_batch_new\n",
    "        \n",
    "        "
   ]
  },
  {
   "cell_type": "code",
   "execution_count": 14,
   "metadata": {
    "scrolled": true
   },
   "outputs": [],
   "source": [
    "y_batch = y_batch_generator(y_batch,sequence_length = sequence_length)"
   ]
  },
  {
   "cell_type": "code",
   "execution_count": 15,
   "metadata": {},
   "outputs": [
    {
     "data": {
      "text/plain": [
       "(19325, 20, 7)"
      ]
     },
     "execution_count": 15,
     "metadata": {},
     "output_type": "execute_result"
    }
   ],
   "source": [
    "y_batch.shape"
   ]
  },
  {
   "cell_type": "markdown",
   "metadata": {},
   "source": [
    "# Batch generator for vali-set"
   ]
  },
  {
   "cell_type": "code",
   "execution_count": 16,
   "metadata": {},
   "outputs": [],
   "source": [
    "vali = batch_generator_1(vali,sequence_length=sequence_length, window_size=window_size)"
   ]
  },
  {
   "cell_type": "code",
   "execution_count": 17,
   "metadata": {},
   "outputs": [],
   "source": [
    "x_batch_vali, y_batch_vali= batch_generator(vali,sequence_length=sequence_length, window_size=window_size)"
   ]
  },
  {
   "cell_type": "code",
   "execution_count": 18,
   "metadata": {},
   "outputs": [],
   "source": [
    "x_batch_vali = np.expand_dims(x_batch_vali, axis=4)"
   ]
  },
  {
   "cell_type": "code",
   "execution_count": 19,
   "metadata": {},
   "outputs": [],
   "source": [
    "y_batch_vali = y_batch_generator(y_batch_vali,sequence_length=sequence_length)\n",
    "y_batch_vali = np.array(y_batch_vali)"
   ]
  },
  {
   "cell_type": "code",
   "execution_count": 20,
   "metadata": {},
   "outputs": [
    {
     "data": {
      "text/plain": [
       "(1645, 20, 7)"
      ]
     },
     "execution_count": 20,
     "metadata": {},
     "output_type": "execute_result"
    }
   ],
   "source": [
    "y_batch_vali.shape"
   ]
  },
  {
   "cell_type": "markdown",
   "metadata": {},
   "source": [
    "# Model"
   ]
  },
  {
   "cell_type": "code",
   "execution_count": 21,
   "metadata": {},
   "outputs": [],
   "source": [
    "from tensorflow.keras.models import Sequential\n",
    "from tensorflow.keras.layers import Dense\n",
    "from tensorflow.keras.layers import Flatten\n",
    "from tensorflow.keras.layers import TimeDistributed\n",
    "#from tensorflow.keras.layers.convolutional import Conv3D\n",
    "#from tensorflow.keras.layers.convolutional_recurrent import ConvLSTM2D\n",
    "import tensorflow.keras as keras\n",
    "import tensorflow.keras.layers as layers\n",
    "from ConvLSTM2D_2 import ConvLSTM2D_2"
   ]
  },
  {
   "cell_type": "markdown",
   "metadata": {},
   "source": [
    "## self-attention"
   ]
  },
  {
   "cell_type": "code",
   "execution_count": 54,
   "metadata": {},
   "outputs": [],
   "source": [
    "from ConvLSTM2D_2 import ConvLSTM2D_2\n",
    "#from self_attention import self_attention\n",
    "import tensorflow as tf\n",
    "from tensorflow.keras import layers\n",
    "\n",
    "\n",
    "\n",
    "class self_attention(layers.Layer):\n",
    "    \"\"\"\n",
    "    input_shape should be a 5 dimensional tensor\n",
    "    input_shape = batch_size * timestep * row * feature * channels\n",
    "    feature should be 1 after the Conv_LSTM\n",
    "    the input will have to rehape first \n",
    "    shape = batch_size * [timestep*row*feature] * channels\n",
    "    [timestep*row*feature] ist the time feature\n",
    "    output_shape is 3D tensor\n",
    "    this layer apply the attention mechanismus on channels with time feature\n",
    "    \n",
    "    if key_value = True\n",
    "        the key and value are the same\n",
    "        key = value = input\n",
    "    if key_value = False\n",
    "        key = input x key_weight\n",
    "        value = input x value_weight\n",
    "    query = input x query_weights\n",
    "    score = dot_product(query, key)\n",
    "    Calculate softmax(score)\n",
    "    alignment_vectors = value * score\n",
    "    output = sum(alignment_vectors of all input)\n",
    "    output is 3D\n",
    "    \n",
    "    \"\"\"\n",
    "\n",
    "    def __init__(self, \n",
    "                 key_value = False,):\n",
    "        super(self_attention, self).__init__()\n",
    "        self.key_value = key_value\n",
    "\n",
    "        \n",
    "    def build(self,input_shape):\n",
    "        \n",
    "        self.key_weight = self.add_weight(shape = (1,input_shape[1], input_shape[2]),\n",
    "                                          initializer = 'random_normal',\n",
    "                                          name = 'key_weight',\n",
    "                                          trainable=True)\n",
    "        \n",
    "        self.value_weight = self.add_weight(shape = (1,input_shape[1], input_shape[2]),\n",
    "                                          name = 'random_normal',\n",
    "                                            initializer = 'random_normal',\n",
    "                                            trainable=True)\n",
    "        \n",
    "        self.query_weight = self.add_weight(shape = (1,input_shape[1], input_shape[2]),\n",
    "                                          name = 'query_weight',\n",
    "                                            initializer = 'random_normal',\n",
    "                                            trainable=True)\n",
    "        \n",
    "        \n",
    "    def call(self, inputs):\n",
    "        #print(inputs.shape)\n",
    "        inputs = tf.transpose(inputs,perm =[0,2,1])\n",
    "        \n",
    "        query = tf.matmul(inputs,self.query_weight)\n",
    "        #print(query.shape)\n",
    "        \n",
    "        value = tf.matmul(inputs,self.value_weight)\n",
    "        #value = inputs\n",
    "        \n",
    "        #key = inputs\n",
    "        key = tf.matmul(inputs,self.key_weight)\n",
    "        \n",
    "        key_r = tf.transpose(key,perm=[0, 2, 1])\n",
    "        #print(key_r.shape)\n",
    "        \n",
    "        score = tf.matmul(query,key_r)\n",
    "        #print(key_r.shape)\n",
    "        \n",
    "        score_soft = tf.nn.softmax(score, axis = 2)\n",
    "        \n",
    "        score_r = tf.transpose(score_soft,perm=[0, 2, 1])\n",
    "        \n",
    "        outputs = value[:,:,None]*score_r[:,:,:,None]\n",
    "        \n",
    "        output = tf.keras.backend.sum(outputs,axis=1)\n",
    "        #print(output.shape)\n",
    "        \n",
    "        return output\n"
   ]
  },
  {
   "cell_type": "markdown",
   "metadata": {},
   "source": [
    "## Visualization"
   ]
  },
  {
   "cell_type": "code",
   "execution_count": 55,
   "metadata": {},
   "outputs": [],
   "source": [
    "class LossHistory(keras.callbacks.Callback):\n",
    "    def on_train_begin(self, logs={}):\n",
    "        self.losses = {'batch':[], 'epoch':[]}\n",
    "        self.accuracy = {'batch':[], 'epoch':[]}\n",
    "        self.val_loss = {'batch':[], 'epoch':[]}\n",
    "        self.val_acc = {'batch':[], 'epoch':[]}\n",
    "\n",
    "    def on_batch_end(self, batch, logs={}):\n",
    "        self.losses['batch'].append(logs.get('loss'))\n",
    "        self.accuracy['batch'].append(logs.get('acc'))\n",
    "        self.val_loss['batch'].append(logs.get('val_loss'))\n",
    "        self.val_acc['batch'].append(logs.get('val_acc'))\n",
    "\n",
    "    def on_epoch_end(self, batch, logs={}):\n",
    "        self.losses['epoch'].append(logs.get('loss'))\n",
    "        self.accuracy['epoch'].append(logs.get('acc'))\n",
    "        self.val_loss['epoch'].append(logs.get('val_loss'))\n",
    "        self.val_acc['epoch'].append(logs.get('val_acc'))\n",
    "\n",
    "    def loss_plot(self, loss_type):\n",
    "        iters = range(len(self.losses[loss_type]))\n",
    "        plt.figure()\n",
    "        # acc\n",
    "        plt.plot(iters, self.accuracy[loss_type], 'r', label='train acc')\n",
    "        # loss\n",
    "        plt.plot(iters, self.losses[loss_type], 'g', label='train loss')\n",
    "        if loss_type == 'epoch':\n",
    "            # val_acc\n",
    "            plt.plot(iters, self.val_acc[loss_type], 'b', label='val acc')\n",
    "            # val_loss\n",
    "            plt.plot(iters, self.val_loss[loss_type], 'k', label='val loss')\n",
    "        plt.grid(True)\n",
    "        plt.xlabel(loss_type)\n",
    "        plt.ylabel('acc-loss')\n",
    "        plt.legend(loc=\"upper right\")\n",
    "        plt.show()\n"
   ]
  },
  {
   "cell_type": "markdown",
   "metadata": {},
   "source": [
    "## build model"
   ]
  },
  {
   "cell_type": "code",
   "execution_count": 56,
   "metadata": {},
   "outputs": [
    {
     "ename": "AxisError",
     "evalue": "axis 2 is out of bounds for array of dimension 1",
     "output_type": "error",
     "traceback": [
      "\u001b[1;31m---------------------------------------------------------------------------\u001b[0m",
      "\u001b[1;31mAxisError\u001b[0m                                 Traceback (most recent call last)",
      "\u001b[1;32m<ipython-input-56-8b882d669bbd>\u001b[0m in \u001b[0;36m<module>\u001b[1;34m\u001b[0m\n\u001b[0;32m     16\u001b[0m \u001b[1;31m#model.add(TimeDistributed(Dense(units = 2, activation = \"softmax\")))\u001b[0m\u001b[1;33m\u001b[0m\u001b[1;33m\u001b[0m\u001b[1;33m\u001b[0m\u001b[0m\n\u001b[0;32m     17\u001b[0m \u001b[0mmodel\u001b[0m\u001b[1;33m.\u001b[0m\u001b[0madd\u001b[0m\u001b[1;33m(\u001b[0m\u001b[0mTimeDistributed\u001b[0m\u001b[1;33m(\u001b[0m\u001b[0mDense\u001b[0m\u001b[1;33m(\u001b[0m\u001b[0munits\u001b[0m \u001b[1;33m=\u001b[0m \u001b[1;36m7\u001b[0m\u001b[1;33m,\u001b[0m \u001b[0mactivation\u001b[0m \u001b[1;33m=\u001b[0m \u001b[1;34m\"softmax\"\u001b[0m\u001b[1;33m)\u001b[0m\u001b[1;33m)\u001b[0m\u001b[1;33m)\u001b[0m\u001b[1;33m\u001b[0m\u001b[1;33m\u001b[0m\u001b[0m\n\u001b[1;32m---> 18\u001b[1;33m \u001b[0mmodel\u001b[0m\u001b[1;33m.\u001b[0m\u001b[0mcompile\u001b[0m\u001b[1;33m(\u001b[0m \u001b[0mloss\u001b[0m\u001b[1;33m=\u001b[0m\u001b[0mtf\u001b[0m\u001b[1;33m.\u001b[0m\u001b[0mkeras\u001b[0m\u001b[1;33m.\u001b[0m\u001b[0mlosses\u001b[0m\u001b[1;33m.\u001b[0m\u001b[0mCategoricalCrossentropy\u001b[0m\u001b[1;33m(\u001b[0m\u001b[1;33m)\u001b[0m\u001b[1;33m,\u001b[0m \u001b[0moptimizer\u001b[0m\u001b[1;33m=\u001b[0m\u001b[1;34m'Adam'\u001b[0m\u001b[1;33m,\u001b[0m\u001b[0mmetrics\u001b[0m\u001b[1;33m=\u001b[0m\u001b[1;33m[\u001b[0m\u001b[0mtf\u001b[0m\u001b[1;33m.\u001b[0m\u001b[0mkeras\u001b[0m\u001b[1;33m.\u001b[0m\u001b[0mmetrics\u001b[0m\u001b[1;33m.\u001b[0m\u001b[0mCategoricalAccuracy\u001b[0m\u001b[1;33m(\u001b[0m\u001b[0mnp\u001b[0m\u001b[1;33m.\u001b[0m\u001b[0margmax\u001b[0m\u001b[1;33m(\u001b[0m\u001b[0my_batch_vali\u001b[0m\u001b[1;33m,\u001b[0m \u001b[0maxis\u001b[0m\u001b[1;33m=\u001b[0m\u001b[1;36m2\u001b[0m\u001b[1;33m)\u001b[0m\u001b[1;33m.\u001b[0m\u001b[0mall\u001b[0m\u001b[1;33m(\u001b[0m\u001b[1;33m)\u001b[0m\u001b[1;33m)\u001b[0m\u001b[1;33m]\u001b[0m\u001b[1;33m)\u001b[0m\u001b[1;33m\u001b[0m\u001b[1;33m\u001b[0m\u001b[0m\n\u001b[0m",
      "\u001b[1;32m~\\AppData\\Local\\Continuum\\anaconda3\\lib\\site-packages\\numpy\\core\\fromnumeric.py\u001b[0m in \u001b[0;36margmax\u001b[1;34m(a, axis, out)\u001b[0m\n\u001b[0;32m   1101\u001b[0m \u001b[1;33m\u001b[0m\u001b[0m\n\u001b[0;32m   1102\u001b[0m     \"\"\"\n\u001b[1;32m-> 1103\u001b[1;33m     \u001b[1;32mreturn\u001b[0m \u001b[0m_wrapfunc\u001b[0m\u001b[1;33m(\u001b[0m\u001b[0ma\u001b[0m\u001b[1;33m,\u001b[0m \u001b[1;34m'argmax'\u001b[0m\u001b[1;33m,\u001b[0m \u001b[0maxis\u001b[0m\u001b[1;33m=\u001b[0m\u001b[0maxis\u001b[0m\u001b[1;33m,\u001b[0m \u001b[0mout\u001b[0m\u001b[1;33m=\u001b[0m\u001b[0mout\u001b[0m\u001b[1;33m)\u001b[0m\u001b[1;33m\u001b[0m\u001b[1;33m\u001b[0m\u001b[0m\n\u001b[0m\u001b[0;32m   1104\u001b[0m \u001b[1;33m\u001b[0m\u001b[0m\n\u001b[0;32m   1105\u001b[0m \u001b[1;33m\u001b[0m\u001b[0m\n",
      "\u001b[1;32m~\\AppData\\Local\\Continuum\\anaconda3\\lib\\site-packages\\numpy\\core\\fromnumeric.py\u001b[0m in \u001b[0;36m_wrapfunc\u001b[1;34m(obj, method, *args, **kwds)\u001b[0m\n\u001b[0;32m     54\u001b[0m \u001b[1;32mdef\u001b[0m \u001b[0m_wrapfunc\u001b[0m\u001b[1;33m(\u001b[0m\u001b[0mobj\u001b[0m\u001b[1;33m,\u001b[0m \u001b[0mmethod\u001b[0m\u001b[1;33m,\u001b[0m \u001b[1;33m*\u001b[0m\u001b[0margs\u001b[0m\u001b[1;33m,\u001b[0m \u001b[1;33m**\u001b[0m\u001b[0mkwds\u001b[0m\u001b[1;33m)\u001b[0m\u001b[1;33m:\u001b[0m\u001b[1;33m\u001b[0m\u001b[1;33m\u001b[0m\u001b[0m\n\u001b[0;32m     55\u001b[0m     \u001b[1;32mtry\u001b[0m\u001b[1;33m:\u001b[0m\u001b[1;33m\u001b[0m\u001b[1;33m\u001b[0m\u001b[0m\n\u001b[1;32m---> 56\u001b[1;33m         \u001b[1;32mreturn\u001b[0m \u001b[0mgetattr\u001b[0m\u001b[1;33m(\u001b[0m\u001b[0mobj\u001b[0m\u001b[1;33m,\u001b[0m \u001b[0mmethod\u001b[0m\u001b[1;33m)\u001b[0m\u001b[1;33m(\u001b[0m\u001b[1;33m*\u001b[0m\u001b[0margs\u001b[0m\u001b[1;33m,\u001b[0m \u001b[1;33m**\u001b[0m\u001b[0mkwds\u001b[0m\u001b[1;33m)\u001b[0m\u001b[1;33m\u001b[0m\u001b[1;33m\u001b[0m\u001b[0m\n\u001b[0m\u001b[0;32m     57\u001b[0m \u001b[1;33m\u001b[0m\u001b[0m\n\u001b[0;32m     58\u001b[0m     \u001b[1;31m# An AttributeError occurs if the object does not have\u001b[0m\u001b[1;33m\u001b[0m\u001b[1;33m\u001b[0m\u001b[1;33m\u001b[0m\u001b[0m\n",
      "\u001b[1;31mAxisError\u001b[0m: axis 2 is out of bounds for array of dimension 1"
     ]
    }
   ],
   "source": [
    "model =Sequential()\n",
    "# input 的shape 应该是 （时间，行-window，列-sensor， channels）\n",
    "# 参数个数怎么算？？？为啥改变filter个数，参数个数不是按比例增长\n",
    "# 增加batch ？ 增加 dropout??\n",
    "model.add(ConvLSTM2D_2(filters=18, kernel_size=(kernel_size,  x_batch.shape[3]),cov_kernel_size=(kernel_size, 1),input_shape=(None, window_size, x_batch.shape[3], 1), padding='valid', return_sequences=True))\n",
    "model.add(keras.layers.BatchNormalization())\n",
    "# model.add(ConvLSTM2D_2(filters=36, kernel_size=(kernel_size, 1),cov_kernel_size=(kernel_size, 1),padding='valid', return_sequences=True))\n",
    "# model.add(keras.layers.BatchNormalization())\n",
    "model.add(tf.keras.layers.Reshape((18*105,sequence_length)))\n",
    "model.add(self_attention())\n",
    "model.add(TimeDistributed(Flatten()))\n",
    "\n",
    "#model.add(Flatten())\n",
    "model.add(TimeDistributed(Dense(units = 50, activation = \"linear\")))\n",
    "model.add(tf.compat.v2.keras.layers.Dropout(0.7))\n",
    "#model.add(TimeDistributed(Dense(units = 2, activation = \"softmax\")))\n",
    "model.add(TimeDistributed(Dense(units = 7, activation = \"softmax\")))\n",
    "model.compile( loss=tf.keras.losses.CategoricalCrossentropy(), optimizer='Adam',metrics=[tf.keras.metrics.CategoricalAccuracy(np.argmax(y_batch_vali, axis=2).all())])"
   ]
  },
  {
   "cell_type": "code",
   "execution_count": 53,
   "metadata": {
    "scrolled": false
   },
   "outputs": [
    {
     "ename": "ValueError",
     "evalue": "This model has not yet been built. Build the model first by calling `build()` or calling `fit()` with some data, or specify an `input_shape` argument in the first layer(s) for automatic build.",
     "output_type": "error",
     "traceback": [
      "\u001b[1;31m---------------------------------------------------------------------------\u001b[0m",
      "\u001b[1;31mValueError\u001b[0m                                Traceback (most recent call last)",
      "\u001b[1;32m<ipython-input-53-3caefa261807>\u001b[0m in \u001b[0;36m<module>\u001b[1;34m\u001b[0m\n\u001b[1;32m----> 1\u001b[1;33m \u001b[0mprint\u001b[0m\u001b[1;33m(\u001b[0m\u001b[0mmodel\u001b[0m\u001b[1;33m.\u001b[0m\u001b[0msummary\u001b[0m\u001b[1;33m(\u001b[0m\u001b[1;33m)\u001b[0m\u001b[1;33m)\u001b[0m\u001b[1;33m\u001b[0m\u001b[1;33m\u001b[0m\u001b[0m\n\u001b[0m",
      "\u001b[1;32m~\\AppData\\Local\\Continuum\\anaconda3\\lib\\site-packages\\tensorflow_core\\python\\keras\\engine\\network.py\u001b[0m in \u001b[0;36msummary\u001b[1;34m(self, line_length, positions, print_fn)\u001b[0m\n\u001b[0;32m   1255\u001b[0m     \"\"\"\n\u001b[0;32m   1256\u001b[0m     \u001b[1;32mif\u001b[0m \u001b[1;32mnot\u001b[0m \u001b[0mself\u001b[0m\u001b[1;33m.\u001b[0m\u001b[0mbuilt\u001b[0m\u001b[1;33m:\u001b[0m\u001b[1;33m\u001b[0m\u001b[1;33m\u001b[0m\u001b[0m\n\u001b[1;32m-> 1257\u001b[1;33m       raise ValueError('This model has not yet been built. '\n\u001b[0m\u001b[0;32m   1258\u001b[0m                        \u001b[1;34m'Build the model first by calling `build()` or calling '\u001b[0m\u001b[1;33m\u001b[0m\u001b[1;33m\u001b[0m\u001b[0m\n\u001b[0;32m   1259\u001b[0m                        \u001b[1;34m'`fit()` with some data, or specify '\u001b[0m\u001b[1;33m\u001b[0m\u001b[1;33m\u001b[0m\u001b[0m\n",
      "\u001b[1;31mValueError\u001b[0m: This model has not yet been built. Build the model first by calling `build()` or calling `fit()` with some data, or specify an `input_shape` argument in the first layer(s) for automatic build."
     ]
    }
   ],
   "source": [
    "print(model.summary())"
   ]
  },
  {
   "cell_type": "code",
   "execution_count": 34,
   "metadata": {},
   "outputs": [],
   "source": [
    "history = LossHistory()"
   ]
  },
  {
   "cell_type": "code",
   "execution_count": 35,
   "metadata": {
    "scrolled": true
   },
   "outputs": [
    {
     "name": "stdout",
     "output_type": "stream",
     "text": [
      "Train on 19325 samples, validate on 1645 samples\n",
      "Epoch 1/10\n",
      "WARNING:tensorflow:Large dropout rate: 0.7 (>0.5). In TensorFlow 2.x, dropout() uses dropout rate instead of keep_prob. Please ensure that this is intended.\n",
      "WARNING:tensorflow:Large dropout rate: 0.7 (>0.5). In TensorFlow 2.x, dropout() uses dropout rate instead of keep_prob. Please ensure that this is intended.\n",
      "19325/19325 [==============================] - 155s 8ms/sample - loss: 0.9759 - categorical_accuracy_2: 0.6593 - val_loss: 2.3818 - val_categorical_accuracy_2: 0.4042\n",
      "Epoch 2/10\n",
      "19325/19325 [==============================] - 123s 6ms/sample - loss: 0.5609 - categorical_accuracy_2: 0.8228 - val_loss: 2.1597 - val_categorical_accuracy_2: 0.3167\n",
      "Epoch 3/10\n",
      "19325/19325 [==============================] - 121s 6ms/sample - loss: 0.5260 - categorical_accuracy_2: 0.8392 - val_loss: 2.1540 - val_categorical_accuracy_2: 0.4422\n",
      "Epoch 4/10\n",
      "19325/19325 [==============================] - 121s 6ms/sample - loss: 0.7106 - categorical_accuracy_2: 0.7760 - val_loss: 1.2804 - val_categorical_accuracy_2: 0.5565\n",
      "Epoch 5/10\n",
      "19325/19325 [==============================] - 122s 6ms/sample - loss: 0.8061 - categorical_accuracy_2: 0.7423 - val_loss: 1.5612 - val_categorical_accuracy_2: 0.5452\n",
      "Epoch 6/10\n",
      "19325/19325 [==============================] - 122s 6ms/sample - loss: 0.8655 - categorical_accuracy_2: 0.7203 - val_loss: 1.6784 - val_categorical_accuracy_2: 0.4387\n",
      "Epoch 7/10\n",
      "19325/19325 [==============================] - 122s 6ms/sample - loss: 0.9533 - categorical_accuracy_2: 0.6814 - val_loss: 1.5438 - val_categorical_accuracy_2: 0.4490\n",
      "Epoch 8/10\n",
      "19325/19325 [==============================] - 123s 6ms/sample - loss: 0.8681 - categorical_accuracy_2: 0.7143 - val_loss: 1.7437 - val_categorical_accuracy_2: 0.3989\n",
      "Epoch 9/10\n",
      "19325/19325 [==============================] - 122s 6ms/sample - loss: 0.7870 - categorical_accuracy_2: 0.7441 - val_loss: 1.4655 - val_categorical_accuracy_2: 0.4943\n",
      "Epoch 10/10\n",
      "19325/19325 [==============================] - 122s 6ms/sample - loss: 0.7522 - categorical_accuracy_2: 0.7573 - val_loss: 1.8158 - val_categorical_accuracy_2: 0.4503\n"
     ]
    },
    {
     "data": {
      "text/plain": [
       "<tensorflow.python.keras.callbacks.History at 0x2122662c548>"
      ]
     },
     "execution_count": 35,
     "metadata": {},
     "output_type": "execute_result"
    }
   ],
   "source": [
    "model.fit(x_batch, y_batch,\n",
    "            batch_size=10, epochs=10,\n",
    "            verbose=1, \n",
    "            validation_data=(x_batch_vali, y_batch_vali),\n",
    "            callbacks=[history])\n"
   ]
  },
  {
   "cell_type": "code",
   "execution_count": 36,
   "metadata": {},
   "outputs": [
    {
     "data": {
      "image/png": "[encoded data removed]",
      "text/plain": [
       "<Figure size 432x288 with 1 Axes>"
      ]
     },
     "metadata": {
      "needs_background": "light"
     },
     "output_type": "display_data"
    }
   ],
   "source": [
    "history.loss_plot('epoch')"
   ]
  },
  {
   "cell_type": "markdown",
   "metadata": {},
   "source": [
    "# caculate the score"
   ]
  },
  {
   "cell_type": "code",
   "execution_count": 37,
   "metadata": {
    "scrolled": true
   },
   "outputs": [],
   "source": [
    "y_pre_vali = model.predict(x_batch_vali)"
   ]
  },
  {
   "cell_type": "code",
   "execution_count": 38,
   "metadata": {},
   "outputs": [],
   "source": [
    "out = np.argmax(y_pre_vali, axis=2)"
   ]
  },
  {
   "cell_type": "code",
   "execution_count": 39,
   "metadata": {},
   "outputs": [],
   "source": [
    "out =out.flatten()"
   ]
  },
  {
   "cell_type": "code",
   "execution_count": 40,
   "metadata": {},
   "outputs": [
    {
     "data": {
      "text/plain": [
       "(32900,)"
      ]
     },
     "execution_count": 40,
     "metadata": {},
     "output_type": "execute_result"
    }
   ],
   "source": [
    "out.shape"
   ]
  },
  {
   "cell_type": "code",
   "execution_count": 41,
   "metadata": {},
   "outputs": [],
   "source": [
    "y_batch_vali = np.argmax(y_batch_vali, axis=2)"
   ]
  },
  {
   "cell_type": "code",
   "execution_count": 42,
   "metadata": {},
   "outputs": [],
   "source": [
    "y_batch_vali=y_batch_vali.flatten()"
   ]
  },
  {
   "cell_type": "code",
   "execution_count": 43,
   "metadata": {},
   "outputs": [],
   "source": [
    "from sklearn.metrics import precision_recall_fscore_support"
   ]
  },
  {
   "cell_type": "code",
   "execution_count": 44,
   "metadata": {},
   "outputs": [],
   "source": [
    "precision, recall, fscore, support = precision_recall_fscore_support(y_batch_vali, out, average=\"macro\")"
   ]
  },
  {
   "cell_type": "code",
   "execution_count": 45,
   "metadata": {},
   "outputs": [
    {
     "data": {
      "text/plain": [
       "0.45955164479147687"
      ]
     },
     "execution_count": 45,
     "metadata": {},
     "output_type": "execute_result"
    }
   ],
   "source": [
    "fscore"
   ]
  },
  {
   "cell_type": "markdown",
   "metadata": {},
   "source": [
    "# plot "
   ]
  },
  {
   "cell_type": "code",
   "execution_count": 46,
   "metadata": {},
   "outputs": [
    {
     "data": {
      "text/plain": [
       "[<matplotlib.lines.Line2D at 0x20d6902bd08>]"
      ]
     },
     "execution_count": 46,
     "metadata": {},
     "output_type": "execute_result"
    },
    {
     "data": {
      "image/png": "[encoded data removed]",
      "text/plain": [
       "<Figure size 1600x400 with 1 Axes>"
      ]
     },
     "metadata": {
      "needs_background": "light"
     },
     "output_type": "display_data"
    }
   ],
   "source": [
    "fig = plt.figure(num=1, figsize=(20, 5),dpi=80)\n",
    "plt.plot(y_batch_vali)\n",
    "plt.plot(out)\n",
    "\n"
   ]
  },
  {
   "cell_type": "code",
   "execution_count": 47,
   "metadata": {},
   "outputs": [
    {
     "data": {
      "text/plain": [
       "[<matplotlib.lines.Line2D at 0x2123269b708>]"
      ]
     },
     "execution_count": 47,
     "metadata": {},
     "output_type": "execute_result"
    },
    {
     "data": {
      "image/png": "[encoded data removed]",
      "text/plain": [
       "<Figure size 1600x400 with 1 Axes>"
      ]
     },
     "metadata": {
      "needs_background": "light"
     },
     "output_type": "display_data"
    }
   ],
   "source": [
    "fig = plt.figure(num=1, figsize=(20, 5),dpi=80)\n",
    "plt.plot(y_batch_vali)"
   ]
  },
  {
   "cell_type": "code",
   "execution_count": null,
   "metadata": {},
   "outputs": [],
   "source": []
  },
  {
   "cell_type": "code",
   "execution_count": null,
   "metadata": {},
   "outputs": [],
   "source": []
  },
  {
   "cell_type": "code",
   "execution_count": null,
   "metadata": {},
   "outputs": [],
   "source": []
  },
  {
   "cell_type": "code",
   "execution_count": null,
   "metadata": {},
   "outputs": [],
   "source": []
  },
  {
   "cell_type": "code",
   "execution_count": null,
   "metadata": {},
   "outputs": [],
   "source": []
  }
 ],
 "metadata": {
  "kernelspec": {
   "display_name": "Python 3",
   "language": "python",
   "name": "python3"
  },
  "language_info": {
   "codemirror_mode": {
    "name": "ipython",
    "version": 3
   },
   "file_extension": ".py",
   "mimetype": "text/x-python",
   "name": "python",
   "nbconvert_exporter": "python",
   "pygments_lexer": "ipython3",
   "version": "3.7.4"
  },
  "toc": {
   "base_numbering": 1,
   "nav_menu": {},
   "number_sections": true,
   "sideBar": true,
   "skip_h1_title": false,
   "title_cell": "Table of Contents",
   "title_sidebar": "Contents",
   "toc_cell": false,
   "toc_position": {},
   "toc_section_display": true,
   "toc_window_display": false
  }
 },
 "nbformat": 4,
 "nbformat_minor": 2
}
