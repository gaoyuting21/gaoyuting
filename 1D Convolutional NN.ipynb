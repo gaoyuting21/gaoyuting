{
 "cells": [
  {
   "cell_type": "markdown",
   "metadata": {},
   "source": [
    "**import packages**"
   ]
  },
  {
   "cell_type": "code",
   "execution_count": 1,
   "metadata": {},
   "outputs": [],
   "source": [
    "import pandas as pd\n",
    "import matplotlib.pyplot as plt\n",
    "import numpy as np\n",
    "import tensorflow as tf\n",
    "import warnings \n",
    "warnings.filterwarnings(\"ignore\")\n",
    "import time"
   ]
  },
  {
   "cell_type": "markdown",
   "metadata": {},
   "source": [
    "# DATA PREPARATION\n",
    "## Load the training data and test data"
   ]
  },
  {
   "cell_type": "code",
   "execution_count": 2,
   "metadata": {
    "scrolled": true
   },
   "outputs": [],
   "source": [
    "column_name = ['engine_id', 'cycle', 'setting1', 'setting2', 'setting3', 's1', 's2', 's3',\n",
    "               's4', 's5', 's6', 's7', 's8', 's9', 's10', 's11', 's12', 's13', 's14',\n",
    "               's15', 's16', 's17', 's18', 's19', 's20', 's21']\n",
    "train_FD001 = pd.read_table(\"./CMAPSSData/train_FD001.txt\", header=None, delim_whitespace=True)\n",
    "train_FD001.columns = column_name\n",
    "# Test 文件中的cycle数 并不是到死的\n",
    "test_FD001 = pd.read_table(\"./CMAPSSData/test_FD001.txt\", header=None, delim_whitespace=True)\n",
    "test_FD001.columns = column_name\n",
    "\n",
    "# load RUL data 真正的最后循环数存放在这里\n",
    "RUL_FD001 = pd.read_table(\"./CMAPSSData/RUL_FD001.txt\", header=None, delim_whitespace=True)"
   ]
  },
  {
   "cell_type": "code",
   "execution_count": 3,
   "metadata": {},
   "outputs": [
    {
     "data": {
      "text/html": [
       "<div>\n",
       "<style scoped>\n",
       "    .dataframe tbody tr th:only-of-type {\n",
       "        vertical-align: middle;\n",
       "    }\n",
       "\n",
       "    .dataframe tbody tr th {\n",
       "        vertical-align: top;\n",
       "    }\n",
       "\n",
       "    .dataframe thead th {\n",
       "        text-align: right;\n",
       "    }\n",
       "</style>\n",
       "<table border=\"1\" class=\"dataframe\">\n",
       "  <thead>\n",
       "    <tr style=\"text-align: right;\">\n",
       "      <th></th>\n",
       "      <th>engine_id</th>\n",
       "      <th>cycle</th>\n",
       "      <th>setting1</th>\n",
       "      <th>setting2</th>\n",
       "      <th>setting3</th>\n",
       "      <th>s1</th>\n",
       "      <th>s2</th>\n",
       "      <th>s3</th>\n",
       "      <th>s4</th>\n",
       "      <th>s5</th>\n",
       "      <th>...</th>\n",
       "      <th>s12</th>\n",
       "      <th>s13</th>\n",
       "      <th>s14</th>\n",
       "      <th>s15</th>\n",
       "      <th>s16</th>\n",
       "      <th>s17</th>\n",
       "      <th>s18</th>\n",
       "      <th>s19</th>\n",
       "      <th>s20</th>\n",
       "      <th>s21</th>\n",
       "    </tr>\n",
       "  </thead>\n",
       "  <tbody>\n",
       "    <tr>\n",
       "      <th>0</th>\n",
       "      <td>1</td>\n",
       "      <td>1</td>\n",
       "      <td>-0.0007</td>\n",
       "      <td>-0.0004</td>\n",
       "      <td>100.0</td>\n",
       "      <td>518.67</td>\n",
       "      <td>641.82</td>\n",
       "      <td>1589.70</td>\n",
       "      <td>1400.60</td>\n",
       "      <td>14.62</td>\n",
       "      <td>...</td>\n",
       "      <td>521.66</td>\n",
       "      <td>2388.02</td>\n",
       "      <td>8138.62</td>\n",
       "      <td>8.4195</td>\n",
       "      <td>0.03</td>\n",
       "      <td>392</td>\n",
       "      <td>2388</td>\n",
       "      <td>100.0</td>\n",
       "      <td>39.06</td>\n",
       "      <td>23.4190</td>\n",
       "    </tr>\n",
       "    <tr>\n",
       "      <th>1</th>\n",
       "      <td>1</td>\n",
       "      <td>2</td>\n",
       "      <td>0.0019</td>\n",
       "      <td>-0.0003</td>\n",
       "      <td>100.0</td>\n",
       "      <td>518.67</td>\n",
       "      <td>642.15</td>\n",
       "      <td>1591.82</td>\n",
       "      <td>1403.14</td>\n",
       "      <td>14.62</td>\n",
       "      <td>...</td>\n",
       "      <td>522.28</td>\n",
       "      <td>2388.07</td>\n",
       "      <td>8131.49</td>\n",
       "      <td>8.4318</td>\n",
       "      <td>0.03</td>\n",
       "      <td>392</td>\n",
       "      <td>2388</td>\n",
       "      <td>100.0</td>\n",
       "      <td>39.00</td>\n",
       "      <td>23.4236</td>\n",
       "    </tr>\n",
       "    <tr>\n",
       "      <th>2</th>\n",
       "      <td>1</td>\n",
       "      <td>3</td>\n",
       "      <td>-0.0043</td>\n",
       "      <td>0.0003</td>\n",
       "      <td>100.0</td>\n",
       "      <td>518.67</td>\n",
       "      <td>642.35</td>\n",
       "      <td>1587.99</td>\n",
       "      <td>1404.20</td>\n",
       "      <td>14.62</td>\n",
       "      <td>...</td>\n",
       "      <td>522.42</td>\n",
       "      <td>2388.03</td>\n",
       "      <td>8133.23</td>\n",
       "      <td>8.4178</td>\n",
       "      <td>0.03</td>\n",
       "      <td>390</td>\n",
       "      <td>2388</td>\n",
       "      <td>100.0</td>\n",
       "      <td>38.95</td>\n",
       "      <td>23.3442</td>\n",
       "    </tr>\n",
       "    <tr>\n",
       "      <th>3</th>\n",
       "      <td>1</td>\n",
       "      <td>4</td>\n",
       "      <td>0.0007</td>\n",
       "      <td>0.0000</td>\n",
       "      <td>100.0</td>\n",
       "      <td>518.67</td>\n",
       "      <td>642.35</td>\n",
       "      <td>1582.79</td>\n",
       "      <td>1401.87</td>\n",
       "      <td>14.62</td>\n",
       "      <td>...</td>\n",
       "      <td>522.86</td>\n",
       "      <td>2388.08</td>\n",
       "      <td>8133.83</td>\n",
       "      <td>8.3682</td>\n",
       "      <td>0.03</td>\n",
       "      <td>392</td>\n",
       "      <td>2388</td>\n",
       "      <td>100.0</td>\n",
       "      <td>38.88</td>\n",
       "      <td>23.3739</td>\n",
       "    </tr>\n",
       "    <tr>\n",
       "      <th>4</th>\n",
       "      <td>1</td>\n",
       "      <td>5</td>\n",
       "      <td>-0.0019</td>\n",
       "      <td>-0.0002</td>\n",
       "      <td>100.0</td>\n",
       "      <td>518.67</td>\n",
       "      <td>642.37</td>\n",
       "      <td>1582.85</td>\n",
       "      <td>1406.22</td>\n",
       "      <td>14.62</td>\n",
       "      <td>...</td>\n",
       "      <td>522.19</td>\n",
       "      <td>2388.04</td>\n",
       "      <td>8133.80</td>\n",
       "      <td>8.4294</td>\n",
       "      <td>0.03</td>\n",
       "      <td>393</td>\n",
       "      <td>2388</td>\n",
       "      <td>100.0</td>\n",
       "      <td>38.90</td>\n",
       "      <td>23.4044</td>\n",
       "    </tr>\n",
       "  </tbody>\n",
       "</table>\n",
       "<p>5 rows × 26 columns</p>\n",
       "</div>"
      ],
      "text/plain": [
       "   engine_id  cycle  setting1  setting2  setting3      s1      s2       s3  \\\n",
       "0          1      1   -0.0007   -0.0004     100.0  518.67  641.82  1589.70   \n",
       "1          1      2    0.0019   -0.0003     100.0  518.67  642.15  1591.82   \n",
       "2          1      3   -0.0043    0.0003     100.0  518.67  642.35  1587.99   \n",
       "3          1      4    0.0007    0.0000     100.0  518.67  642.35  1582.79   \n",
       "4          1      5   -0.0019   -0.0002     100.0  518.67  642.37  1582.85   \n",
       "\n",
       "        s4     s5  ...     s12      s13      s14     s15   s16  s17   s18  \\\n",
       "0  1400.60  14.62  ...  521.66  2388.02  8138.62  8.4195  0.03  392  2388   \n",
       "1  1403.14  14.62  ...  522.28  2388.07  8131.49  8.4318  0.03  392  2388   \n",
       "2  1404.20  14.62  ...  522.42  2388.03  8133.23  8.4178  0.03  390  2388   \n",
       "3  1401.87  14.62  ...  522.86  2388.08  8133.83  8.3682  0.03  392  2388   \n",
       "4  1406.22  14.62  ...  522.19  2388.04  8133.80  8.4294  0.03  393  2388   \n",
       "\n",
       "     s19    s20      s21  \n",
       "0  100.0  39.06  23.4190  \n",
       "1  100.0  39.00  23.4236  \n",
       "2  100.0  38.95  23.3442  \n",
       "3  100.0  38.88  23.3739  \n",
       "4  100.0  38.90  23.4044  \n",
       "\n",
       "[5 rows x 26 columns]"
      ]
     },
     "execution_count": 3,
     "metadata": {},
     "output_type": "execute_result"
    }
   ],
   "source": [
    "train_FD001.head()"
   ]
  },
  {
   "cell_type": "markdown",
   "metadata": {},
   "source": [
    "## standard normalization\n",
    "<span class=\"mark\">train 和 test 集一定都要 正则化，方法就是减去平均值除以方差。\n",
    "需要注意的是，test集上，正则化用的是training数据的平均值和方差。只能用训练数据集上的信息，test集上的一切信息都不能用。</span>"
   ]
  },
  {
   "cell_type": "code",
   "execution_count": 4,
   "metadata": {},
   "outputs": [],
   "source": [
    "#### standard normalization ####\n",
    "\n",
    "# Training 因为前两列是没有用的 engine_id cycle\n",
    "mean = train_FD001.iloc[:, 2:].mean()\n",
    "std = train_FD001.iloc[:, 2:].std()\n",
    "std.replace(0, 1, inplace=True)\n",
    "train_FD001.iloc[:, 2:] = (train_FD001.iloc[:, 2:] - mean) / std\n",
    "\n",
    "# Testing\n",
    "test_FD001.iloc[:, 2:] = (test_FD001.iloc[:, 2:] - mean) / std"
   ]
  },
  {
   "cell_type": "markdown",
   "metadata": {},
   "source": [
    "## Compute the RUL"
   ]
  },
  {
   "cell_type": "markdown",
   "metadata": {},
   "source": [
    "'''\n",
    "    Piecewise linear function with zero gradient and unit gradient\n",
    "    \n",
    "            ^\n",
    "            |\n",
    "    MAXLIFE |-----------\n",
    "            |            \\\n",
    "            |             \\\n",
    "            |              \\\n",
    "            |               \\\n",
    "            |                \\\n",
    "            |----------------------->\n",
    "    '''\n",
    "    因为从下图的可视化可以看出，所有的传感器值的变化并不是一个逐渐降低的过程。而是先保持平稳，再出现逐渐变化的趋势。\n",
    "    也就是说，在刚开始机器的状态并没有开始下滑。而是到一个临界点的时候，才开始下滑。\n",
    "    那么临界点之前的数据，如果强行默认下滑，可能不好学习。\n",
    "    临街点的值是通过可视化，凭借经验定义的，大部分都是在倒数120周期的时候开始变化。\n",
    "<span class=\"mark\">其实可以通过wavelet transformation 降噪，得出变化点的开头，不同数据集。定义不同的临界点！</span>"
   ]
  },
  {
   "cell_type": "code",
   "execution_count": 5,
   "metadata": {},
   "outputs": [
    {
     "data": {
      "image/png": "[encoded data removed]",
      "text/plain": [
       "<Figure size 1080x360 with 1 Axes>"
      ]
     },
     "metadata": {
      "needs_background": "light"
     },
     "output_type": "display_data"
    }
   ],
   "source": [
    "train_FD001[train_FD001[\"engine_id\"]==1][[\"s2\",\"s4\",\"s7\"]].plot(figsize=(15,5));"
   ]
  },
  {
   "cell_type": "markdown",
   "metadata": {},
   "source": [
    "### Training"
   ]
  },
  {
   "cell_type": "code",
   "execution_count": 6,
   "metadata": {},
   "outputs": [],
   "source": [
    "id='engine_id'\n",
    "# 这个是自己定义的， 拐点在120 ，  120之前视为一样\n",
    "MAXLIFE = 125\n",
    "rul = [] # 会逐渐装满所有id的RUL\n",
    "for _id in set(train_FD001[id]):\n",
    "    trainFD001_of_one_id =  train_FD001[train_FD001[id] == _id]\n",
    "    cycle_list = trainFD001_of_one_id['cycle'].tolist()\n",
    "    # 因为这里是run to end ,所以最大cycle数是确定的\n",
    "    max_cycle = max(cycle_list)\n",
    "    # 计算出临界点的位置，没到达临界点的时候，全部保存MAXLIFE，到达临界点的时候，逐点下降！\n",
    "    knee_point = max_cycle - MAXLIFE\n",
    "    kink_RUL = []\n",
    "    for i in range(0, len(cycle_list)):\n",
    "        # \n",
    "        if i < knee_point:\n",
    "            kink_RUL.append(MAXLIFE)\n",
    "        else:\n",
    "            tmp = kink_RUL[i - 1] - 1\n",
    "            kink_RUL.append(tmp)\n",
    "    # 每跑完一个id就添加到最后总的rul列表中\n",
    "    rul.extend(kink_RUL)\n",
    "\n",
    "train_FD001[\"RUL\"] = rul\n",
    "\n",
    "# training_engine_id = train_FD001['engine_id']\n",
    "# train_FD001 = train_FD001.drop('engine_id', 1)\n",
    "# train_FD001 = train_FD001.drop('cycle', 1)"
   ]
  },
  {
   "cell_type": "markdown",
   "metadata": {},
   "source": [
    "### Testing\n",
    "TEST数据集和训练数据集是不一样的，RUL是定义好了的。已经读在了RUL_FD001 dataframe里面"
   ]
  },
  {
   "cell_type": "code",
   "execution_count": 7,
   "metadata": {},
   "outputs": [],
   "source": [
    "id='engine_id'\n",
    "rul = []\n",
    "for _id in set(test_FD001[id]):\n",
    "    # 真实的RUL， 也就是测试数据最后一个周期所对应的RUL\n",
    "    true_rul = int(RUL_FD001.iloc[_id - 1])\n",
    "    testFD001_of_one_id =  test_FD001[test_FD001[id] == _id]\n",
    "    cycle_list = testFD001_of_one_id['cycle'].tolist()\n",
    "    # 那么总的生命周期数=训练集的已有周期数+最后剩下的周期数\n",
    "    max_cycle = max(cycle_list) + true_rul\n",
    "    knee_point = max_cycle - MAXLIFE\n",
    "    kink_RUL = []\n",
    "    for i in range(0, len(cycle_list)):\n",
    "        if i < knee_point:\n",
    "            kink_RUL.append(MAXLIFE)\n",
    "        else:\n",
    "            tmp = kink_RUL[i - 1] - 1\n",
    "            kink_RUL.append(tmp)    \n",
    "\n",
    "    rul.extend(kink_RUL)\n",
    "\n",
    "test_FD001[\"RUL\"] = rul"
   ]
  },
  {
   "cell_type": "markdown",
   "metadata": {},
   "source": [
    "    训练数据的格式应该是[batch, timesteps, windowsize, numberofsensor] (这里没有考虑channel的维度）\n",
    "    如果timesteps设置为10，窗口大小设置为24\n",
    "    那么一个训练集最短至少要有33\n",
    "    测试集的输入尺寸除了batch,都要保持和训练集的一致\n",
    "<span class=\"mark\">所以timesteps和窗口大小不能随意定</span>"
   ]
  },
  {
   "cell_type": "code",
   "execution_count": 8,
   "metadata": {
    "scrolled": true
   },
   "outputs": [
    {
     "name": "stdout",
     "output_type": "stream",
     "text": [
      "训练集中最小的长度是： 128\n"
     ]
    }
   ],
   "source": [
    "min_shape = np.min([i[0] for i in train_FD001.groupby(\"engine_id\").apply(np.shape).values])\n",
    "print(\"训练集中最小的长度是：\",min_shape)"
   ]
  },
  {
   "cell_type": "code",
   "execution_count": 9,
   "metadata": {
    "scrolled": true
   },
   "outputs": [
    {
     "name": "stdout",
     "output_type": "stream",
     "text": [
      "测试集中最小的长度是： 31\n"
     ]
    }
   ],
   "source": [
    "min_shape = np.min([i[0] for i in test_FD001.groupby(\"engine_id\").apply(np.shape).values])\n",
    "print(\"测试集中最小的长度是：\",min_shape)"
   ]
  },
  {
   "cell_type": "code",
   "execution_count": 10,
   "metadata": {},
   "outputs": [],
   "source": [
    "# test_FD001 = test_FD001.drop('engine_id', 1)\n",
    "# test_FD001 = test_FD001.drop('cycle', 1)\n",
    "# test_values = test_FD001.values"
   ]
  },
  {
   "cell_type": "markdown",
   "metadata": {},
   "source": [
    "    这时候 train_FD001 和 test_FD001结构是一样的，第一列是id，中间24个传感器数据，最后一列是 rul"
   ]
  },
  {
   "cell_type": "code",
   "execution_count": 11,
   "metadata": {
    "scrolled": false
   },
   "outputs": [
    {
     "data": {
      "text/html": [
       "<div>\n",
       "<style scoped>\n",
       "    .dataframe tbody tr th:only-of-type {\n",
       "        vertical-align: middle;\n",
       "    }\n",
       "\n",
       "    .dataframe tbody tr th {\n",
       "        vertical-align: top;\n",
       "    }\n",
       "\n",
       "    .dataframe thead th {\n",
       "        text-align: right;\n",
       "    }\n",
       "</style>\n",
       "<table border=\"1\" class=\"dataframe\">\n",
       "  <thead>\n",
       "    <tr style=\"text-align: right;\">\n",
       "      <th></th>\n",
       "      <th>engine_id</th>\n",
       "      <th>cycle</th>\n",
       "      <th>setting1</th>\n",
       "      <th>setting2</th>\n",
       "      <th>setting3</th>\n",
       "      <th>s1</th>\n",
       "      <th>s2</th>\n",
       "      <th>s3</th>\n",
       "      <th>s4</th>\n",
       "      <th>s5</th>\n",
       "      <th>...</th>\n",
       "      <th>s13</th>\n",
       "      <th>s14</th>\n",
       "      <th>s15</th>\n",
       "      <th>s16</th>\n",
       "      <th>s17</th>\n",
       "      <th>s18</th>\n",
       "      <th>s19</th>\n",
       "      <th>s20</th>\n",
       "      <th>s21</th>\n",
       "      <th>RUL</th>\n",
       "    </tr>\n",
       "  </thead>\n",
       "  <tbody>\n",
       "    <tr>\n",
       "      <th>0</th>\n",
       "      <td>1</td>\n",
       "      <td>1</td>\n",
       "      <td>-0.315972</td>\n",
       "      <td>-1.372920</td>\n",
       "      <td>0.0</td>\n",
       "      <td>0.999976</td>\n",
       "      <td>-1.721684</td>\n",
       "      <td>-0.134252</td>\n",
       "      <td>-0.925914</td>\n",
       "      <td>0.999976</td>\n",
       "      <td>...</td>\n",
       "      <td>-1.058865</td>\n",
       "      <td>-0.269065</td>\n",
       "      <td>-0.603801</td>\n",
       "      <td>0.999976</td>\n",
       "      <td>-0.781691</td>\n",
       "      <td>0.0</td>\n",
       "      <td>0.0</td>\n",
       "      <td>1.348460</td>\n",
       "      <td>1.194398</td>\n",
       "      <td>125</td>\n",
       "    </tr>\n",
       "    <tr>\n",
       "      <th>1</th>\n",
       "      <td>1</td>\n",
       "      <td>2</td>\n",
       "      <td>0.872701</td>\n",
       "      <td>-1.031695</td>\n",
       "      <td>0.0</td>\n",
       "      <td>0.999976</td>\n",
       "      <td>-1.061754</td>\n",
       "      <td>0.211523</td>\n",
       "      <td>-0.643710</td>\n",
       "      <td>0.999976</td>\n",
       "      <td>...</td>\n",
       "      <td>-0.363637</td>\n",
       "      <td>-0.642829</td>\n",
       "      <td>-0.275845</td>\n",
       "      <td>0.999976</td>\n",
       "      <td>-0.781691</td>\n",
       "      <td>0.0</td>\n",
       "      <td>0.0</td>\n",
       "      <td>1.016503</td>\n",
       "      <td>1.236892</td>\n",
       "      <td>125</td>\n",
       "    </tr>\n",
       "    <tr>\n",
       "      <th>2</th>\n",
       "      <td>1</td>\n",
       "      <td>3</td>\n",
       "      <td>-1.961827</td>\n",
       "      <td>1.015652</td>\n",
       "      <td>0.0</td>\n",
       "      <td>0.999976</td>\n",
       "      <td>-0.661797</td>\n",
       "      <td>-0.413156</td>\n",
       "      <td>-0.525940</td>\n",
       "      <td>0.999976</td>\n",
       "      <td>...</td>\n",
       "      <td>-0.919819</td>\n",
       "      <td>-0.551616</td>\n",
       "      <td>-0.649128</td>\n",
       "      <td>0.999976</td>\n",
       "      <td>-2.073044</td>\n",
       "      <td>0.0</td>\n",
       "      <td>0.0</td>\n",
       "      <td>0.739873</td>\n",
       "      <td>0.503411</td>\n",
       "      <td>125</td>\n",
       "    </tr>\n",
       "    <tr>\n",
       "      <th>3</th>\n",
       "      <td>1</td>\n",
       "      <td>4</td>\n",
       "      <td>0.324083</td>\n",
       "      <td>-0.008022</td>\n",
       "      <td>0.0</td>\n",
       "      <td>0.999976</td>\n",
       "      <td>-0.661797</td>\n",
       "      <td>-1.261284</td>\n",
       "      <td>-0.784812</td>\n",
       "      <td>0.999976</td>\n",
       "      <td>...</td>\n",
       "      <td>-0.224592</td>\n",
       "      <td>-0.520163</td>\n",
       "      <td>-1.971617</td>\n",
       "      <td>0.999976</td>\n",
       "      <td>-0.781691</td>\n",
       "      <td>0.0</td>\n",
       "      <td>0.0</td>\n",
       "      <td>0.352590</td>\n",
       "      <td>0.777773</td>\n",
       "      <td>125</td>\n",
       "    </tr>\n",
       "    <tr>\n",
       "      <th>4</th>\n",
       "      <td>1</td>\n",
       "      <td>5</td>\n",
       "      <td>-0.864590</td>\n",
       "      <td>-0.690471</td>\n",
       "      <td>0.0</td>\n",
       "      <td>0.999976</td>\n",
       "      <td>-0.621801</td>\n",
       "      <td>-1.251498</td>\n",
       "      <td>-0.301511</td>\n",
       "      <td>0.999976</td>\n",
       "      <td>...</td>\n",
       "      <td>-0.780774</td>\n",
       "      <td>-0.521736</td>\n",
       "      <td>-0.339837</td>\n",
       "      <td>0.999976</td>\n",
       "      <td>-0.136014</td>\n",
       "      <td>0.0</td>\n",
       "      <td>0.0</td>\n",
       "      <td>0.463242</td>\n",
       "      <td>1.059526</td>\n",
       "      <td>125</td>\n",
       "    </tr>\n",
       "  </tbody>\n",
       "</table>\n",
       "<p>5 rows × 27 columns</p>\n",
       "</div>"
      ],
      "text/plain": [
       "   engine_id  cycle  setting1  setting2  setting3        s1        s2  \\\n",
       "0          1      1 -0.315972 -1.372920       0.0  0.999976 -1.721684   \n",
       "1          1      2  0.872701 -1.031695       0.0  0.999976 -1.061754   \n",
       "2          1      3 -1.961827  1.015652       0.0  0.999976 -0.661797   \n",
       "3          1      4  0.324083 -0.008022       0.0  0.999976 -0.661797   \n",
       "4          1      5 -0.864590 -0.690471       0.0  0.999976 -0.621801   \n",
       "\n",
       "         s3        s4        s5  ...       s13       s14       s15       s16  \\\n",
       "0 -0.134252 -0.925914  0.999976  ... -1.058865 -0.269065 -0.603801  0.999976   \n",
       "1  0.211523 -0.643710  0.999976  ... -0.363637 -0.642829 -0.275845  0.999976   \n",
       "2 -0.413156 -0.525940  0.999976  ... -0.919819 -0.551616 -0.649128  0.999976   \n",
       "3 -1.261284 -0.784812  0.999976  ... -0.224592 -0.520163 -1.971617  0.999976   \n",
       "4 -1.251498 -0.301511  0.999976  ... -0.780774 -0.521736 -0.339837  0.999976   \n",
       "\n",
       "        s17  s18  s19       s20       s21  RUL  \n",
       "0 -0.781691  0.0  0.0  1.348460  1.194398  125  \n",
       "1 -0.781691  0.0  0.0  1.016503  1.236892  125  \n",
       "2 -2.073044  0.0  0.0  0.739873  0.503411  125  \n",
       "3 -0.781691  0.0  0.0  0.352590  0.777773  125  \n",
       "4 -0.136014  0.0  0.0  0.463242  1.059526  125  \n",
       "\n",
       "[5 rows x 27 columns]"
      ]
     },
     "execution_count": 11,
     "metadata": {},
     "output_type": "execute_result"
    }
   ],
   "source": [
    "train_FD001[train_FD001[\"engine_id\"]==1].head()"
   ]
  },
  {
   "cell_type": "code",
   "execution_count": 12,
   "metadata": {},
   "outputs": [],
   "source": [
    "train_FD001 = train_FD001.drop(['s1','setting1','setting2','setting3','s5','s6','s10','s16','s18','s19'],axis = 1)"
   ]
  },
  {
   "cell_type": "code",
   "execution_count": 13,
   "metadata": {},
   "outputs": [
    {
     "data": {
      "text/html": [
       "<div>\n",
       "<style scoped>\n",
       "    .dataframe tbody tr th:only-of-type {\n",
       "        vertical-align: middle;\n",
       "    }\n",
       "\n",
       "    .dataframe tbody tr th {\n",
       "        vertical-align: top;\n",
       "    }\n",
       "\n",
       "    .dataframe thead th {\n",
       "        text-align: right;\n",
       "    }\n",
       "</style>\n",
       "<table border=\"1\" class=\"dataframe\">\n",
       "  <thead>\n",
       "    <tr style=\"text-align: right;\">\n",
       "      <th></th>\n",
       "      <th>engine_id</th>\n",
       "      <th>cycle</th>\n",
       "      <th>s2</th>\n",
       "      <th>s3</th>\n",
       "      <th>s4</th>\n",
       "      <th>s7</th>\n",
       "      <th>s8</th>\n",
       "      <th>s9</th>\n",
       "      <th>s11</th>\n",
       "      <th>s12</th>\n",
       "      <th>s13</th>\n",
       "      <th>s14</th>\n",
       "      <th>s15</th>\n",
       "      <th>s17</th>\n",
       "      <th>s20</th>\n",
       "      <th>s21</th>\n",
       "      <th>RUL</th>\n",
       "    </tr>\n",
       "  </thead>\n",
       "  <tbody>\n",
       "    <tr>\n",
       "      <th>0</th>\n",
       "      <td>1</td>\n",
       "      <td>1</td>\n",
       "      <td>-1.721684</td>\n",
       "      <td>-0.134252</td>\n",
       "      <td>-0.925914</td>\n",
       "      <td>1.121113</td>\n",
       "      <td>-0.516326</td>\n",
       "      <td>-0.862792</td>\n",
       "      <td>-0.266460</td>\n",
       "      <td>0.334254</td>\n",
       "      <td>-1.058865</td>\n",
       "      <td>-0.269065</td>\n",
       "      <td>-0.603801</td>\n",
       "      <td>-0.781691</td>\n",
       "      <td>1.348460</td>\n",
       "      <td>1.194398</td>\n",
       "      <td>125</td>\n",
       "    </tr>\n",
       "    <tr>\n",
       "      <th>1</th>\n",
       "      <td>1</td>\n",
       "      <td>2</td>\n",
       "      <td>-1.061754</td>\n",
       "      <td>0.211523</td>\n",
       "      <td>-0.643710</td>\n",
       "      <td>0.431920</td>\n",
       "      <td>-0.798074</td>\n",
       "      <td>-0.958794</td>\n",
       "      <td>-0.191578</td>\n",
       "      <td>1.174871</td>\n",
       "      <td>-0.363637</td>\n",
       "      <td>-0.642829</td>\n",
       "      <td>-0.275845</td>\n",
       "      <td>-0.781691</td>\n",
       "      <td>1.016503</td>\n",
       "      <td>1.236892</td>\n",
       "      <td>125</td>\n",
       "    </tr>\n",
       "    <tr>\n",
       "      <th>2</th>\n",
       "      <td>1</td>\n",
       "      <td>3</td>\n",
       "      <td>-0.661797</td>\n",
       "      <td>-0.413156</td>\n",
       "      <td>-0.525940</td>\n",
       "      <td>1.008131</td>\n",
       "      <td>-0.234578</td>\n",
       "      <td>-0.557126</td>\n",
       "      <td>-1.015279</td>\n",
       "      <td>1.364688</td>\n",
       "      <td>-0.919819</td>\n",
       "      <td>-0.551616</td>\n",
       "      <td>-0.649128</td>\n",
       "      <td>-2.073044</td>\n",
       "      <td>0.739873</td>\n",
       "      <td>0.503411</td>\n",
       "      <td>125</td>\n",
       "    </tr>\n",
       "    <tr>\n",
       "      <th>3</th>\n",
       "      <td>1</td>\n",
       "      <td>4</td>\n",
       "      <td>-0.661797</td>\n",
       "      <td>-1.261284</td>\n",
       "      <td>-0.784812</td>\n",
       "      <td>1.222798</td>\n",
       "      <td>0.188044</td>\n",
       "      <td>-0.713808</td>\n",
       "      <td>-1.539452</td>\n",
       "      <td>1.961255</td>\n",
       "      <td>-0.224592</td>\n",
       "      <td>-0.520163</td>\n",
       "      <td>-1.971617</td>\n",
       "      <td>-0.781691</td>\n",
       "      <td>0.352590</td>\n",
       "      <td>0.777773</td>\n",
       "      <td>125</td>\n",
       "    </tr>\n",
       "    <tr>\n",
       "      <th>4</th>\n",
       "      <td>1</td>\n",
       "      <td>5</td>\n",
       "      <td>-0.621801</td>\n",
       "      <td>-1.251498</td>\n",
       "      <td>-0.301511</td>\n",
       "      <td>0.714376</td>\n",
       "      <td>-0.516326</td>\n",
       "      <td>-0.457048</td>\n",
       "      <td>-0.977838</td>\n",
       "      <td>1.052846</td>\n",
       "      <td>-0.780774</td>\n",
       "      <td>-0.521736</td>\n",
       "      <td>-0.339837</td>\n",
       "      <td>-0.136014</td>\n",
       "      <td>0.463242</td>\n",
       "      <td>1.059526</td>\n",
       "      <td>125</td>\n",
       "    </tr>\n",
       "    <tr>\n",
       "      <th>...</th>\n",
       "      <td>...</td>\n",
       "      <td>...</td>\n",
       "      <td>...</td>\n",
       "      <td>...</td>\n",
       "      <td>...</td>\n",
       "      <td>...</td>\n",
       "      <td>...</td>\n",
       "      <td>...</td>\n",
       "      <td>...</td>\n",
       "      <td>...</td>\n",
       "      <td>...</td>\n",
       "      <td>...</td>\n",
       "      <td>...</td>\n",
       "      <td>...</td>\n",
       "      <td>...</td>\n",
       "      <td>...</td>\n",
       "      <td>...</td>\n",
       "    </tr>\n",
       "    <tr>\n",
       "      <th>20626</th>\n",
       "      <td>100</td>\n",
       "      <td>196</td>\n",
       "      <td>1.617961</td>\n",
       "      <td>1.216229</td>\n",
       "      <td>2.188322</td>\n",
       "      <td>-2.189276</td>\n",
       "      <td>1.315035</td>\n",
       "      <td>0.012546</td>\n",
       "      <td>1.979996</td>\n",
       "      <td>-2.607906</td>\n",
       "      <td>2.278227</td>\n",
       "      <td>-0.322534</td>\n",
       "      <td>1.425260</td>\n",
       "      <td>2.446692</td>\n",
       "      <td>-1.805129</td>\n",
       "      <td>-2.921042</td>\n",
       "      <td>4</td>\n",
       "    </tr>\n",
       "    <tr>\n",
       "      <th>20627</th>\n",
       "      <td>100</td>\n",
       "      <td>197</td>\n",
       "      <td>1.717950</td>\n",
       "      <td>2.279651</td>\n",
       "      <td>2.738285</td>\n",
       "      <td>-2.833277</td>\n",
       "      <td>1.878530</td>\n",
       "      <td>-0.006020</td>\n",
       "      <td>1.867673</td>\n",
       "      <td>-2.350298</td>\n",
       "      <td>1.722045</td>\n",
       "      <td>-0.380198</td>\n",
       "      <td>1.913194</td>\n",
       "      <td>1.155339</td>\n",
       "      <td>-2.856326</td>\n",
       "      <td>-1.203735</td>\n",
       "      <td>3</td>\n",
       "    </tr>\n",
       "    <tr>\n",
       "      <th>20628</th>\n",
       "      <td>100</td>\n",
       "      <td>198</td>\n",
       "      <td>1.477975</td>\n",
       "      <td>1.946924</td>\n",
       "      <td>2.138325</td>\n",
       "      <td>-2.742891</td>\n",
       "      <td>2.019404</td>\n",
       "      <td>0.029754</td>\n",
       "      <td>2.054877</td>\n",
       "      <td>-1.902872</td>\n",
       "      <td>2.000136</td>\n",
       "      <td>-0.141680</td>\n",
       "      <td>3.265013</td>\n",
       "      <td>3.092369</td>\n",
       "      <td>-2.081760</td>\n",
       "      <td>-3.292402</td>\n",
       "      <td>2</td>\n",
       "    </tr>\n",
       "    <tr>\n",
       "      <th>20629</th>\n",
       "      <td>100</td>\n",
       "      <td>199</td>\n",
       "      <td>1.098016</td>\n",
       "      <td>2.403608</td>\n",
       "      <td>1.955004</td>\n",
       "      <td>-3.036645</td>\n",
       "      <td>2.160278</td>\n",
       "      <td>0.383875</td>\n",
       "      <td>3.178105</td>\n",
       "      <td>-2.363856</td>\n",
       "      <td>1.861090</td>\n",
       "      <td>-0.233942</td>\n",
       "      <td>2.579771</td>\n",
       "      <td>1.155339</td>\n",
       "      <td>-2.911652</td>\n",
       "      <td>-2.085021</td>\n",
       "      <td>1</td>\n",
       "    </tr>\n",
       "    <tr>\n",
       "      <th>20630</th>\n",
       "      <td>100</td>\n",
       "      <td>200</td>\n",
       "      <td>2.337884</td>\n",
       "      <td>1.607673</td>\n",
       "      <td>2.578295</td>\n",
       "      <td>-2.912364</td>\n",
       "      <td>2.301152</td>\n",
       "      <td>-0.170401</td>\n",
       "      <td>2.466728</td>\n",
       "      <td>-2.865515</td>\n",
       "      <td>2.278227</td>\n",
       "      <td>-0.336688</td>\n",
       "      <td>1.638564</td>\n",
       "      <td>1.801015</td>\n",
       "      <td>-2.469043</td>\n",
       "      <td>-2.194027</td>\n",
       "      <td>0</td>\n",
       "    </tr>\n",
       "  </tbody>\n",
       "</table>\n",
       "<p>20631 rows × 17 columns</p>\n",
       "</div>"
      ],
      "text/plain": [
       "       engine_id  cycle        s2        s3        s4        s7        s8  \\\n",
       "0              1      1 -1.721684 -0.134252 -0.925914  1.121113 -0.516326   \n",
       "1              1      2 -1.061754  0.211523 -0.643710  0.431920 -0.798074   \n",
       "2              1      3 -0.661797 -0.413156 -0.525940  1.008131 -0.234578   \n",
       "3              1      4 -0.661797 -1.261284 -0.784812  1.222798  0.188044   \n",
       "4              1      5 -0.621801 -1.251498 -0.301511  0.714376 -0.516326   \n",
       "...          ...    ...       ...       ...       ...       ...       ...   \n",
       "20626        100    196  1.617961  1.216229  2.188322 -2.189276  1.315035   \n",
       "20627        100    197  1.717950  2.279651  2.738285 -2.833277  1.878530   \n",
       "20628        100    198  1.477975  1.946924  2.138325 -2.742891  2.019404   \n",
       "20629        100    199  1.098016  2.403608  1.955004 -3.036645  2.160278   \n",
       "20630        100    200  2.337884  1.607673  2.578295 -2.912364  2.301152   \n",
       "\n",
       "             s9       s11       s12       s13       s14       s15       s17  \\\n",
       "0     -0.862792 -0.266460  0.334254 -1.058865 -0.269065 -0.603801 -0.781691   \n",
       "1     -0.958794 -0.191578  1.174871 -0.363637 -0.642829 -0.275845 -0.781691   \n",
       "2     -0.557126 -1.015279  1.364688 -0.919819 -0.551616 -0.649128 -2.073044   \n",
       "3     -0.713808 -1.539452  1.961255 -0.224592 -0.520163 -1.971617 -0.781691   \n",
       "4     -0.457048 -0.977838  1.052846 -0.780774 -0.521736 -0.339837 -0.136014   \n",
       "...         ...       ...       ...       ...       ...       ...       ...   \n",
       "20626  0.012546  1.979996 -2.607906  2.278227 -0.322534  1.425260  2.446692   \n",
       "20627 -0.006020  1.867673 -2.350298  1.722045 -0.380198  1.913194  1.155339   \n",
       "20628  0.029754  2.054877 -1.902872  2.000136 -0.141680  3.265013  3.092369   \n",
       "20629  0.383875  3.178105 -2.363856  1.861090 -0.233942  2.579771  1.155339   \n",
       "20630 -0.170401  2.466728 -2.865515  2.278227 -0.336688  1.638564  1.801015   \n",
       "\n",
       "            s20       s21  RUL  \n",
       "0      1.348460  1.194398  125  \n",
       "1      1.016503  1.236892  125  \n",
       "2      0.739873  0.503411  125  \n",
       "3      0.352590  0.777773  125  \n",
       "4      0.463242  1.059526  125  \n",
       "...         ...       ...  ...  \n",
       "20626 -1.805129 -2.921042    4  \n",
       "20627 -2.856326 -1.203735    3  \n",
       "20628 -2.081760 -3.292402    2  \n",
       "20629 -2.911652 -2.085021    1  \n",
       "20630 -2.469043 -2.194027    0  \n",
       "\n",
       "[20631 rows x 17 columns]"
      ]
     },
     "execution_count": 13,
     "metadata": {},
     "output_type": "execute_result"
    }
   ],
   "source": [
    "train_FD001"
   ]
  },
  {
   "cell_type": "code",
   "execution_count": 14,
   "metadata": {},
   "outputs": [],
   "source": [
    "test_FD001 = test_FD001.drop(['s1','setting1','setting2','setting3','s5','s6','s10','s16','s18','s19'],axis = 1)"
   ]
  },
  {
   "cell_type": "markdown",
   "metadata": {},
   "source": [
    "### Plot a figure"
   ]
  },
  {
   "cell_type": "code",
   "execution_count": 15,
   "metadata": {},
   "outputs": [
    {
     "name": "stdout",
     "output_type": "stream",
     "text": [
      "training (20631, 14) (20631,)\n",
      "testing (13096, 14) (13096,)\n"
     ]
    },
    {
     "data": {
      "image/png": "[encoded data removed]",
      "text/plain": [
       "<Figure size 1080x144 with 1 Axes>"
      ]
     },
     "metadata": {
      "needs_background": "light"
     },
     "output_type": "display_data"
    },
    {
     "data": {
      "image/png": "[encoded data removed]",
      "text/plain": [
       "<Figure size 1080x144 with 1 Axes>"
      ]
     },
     "metadata": {
      "needs_background": "light"
     },
     "output_type": "display_data"
    },
    {
     "data": {
      "image/png": "[encoded data removed]",
      "text/plain": [
       "<Figure size 1080x144 with 1 Axes>"
      ]
     },
     "metadata": {
      "needs_background": "light"
     },
     "output_type": "display_data"
    }
   ],
   "source": [
    "training_data = train_FD001.values\n",
    "testing_data = test_FD001.values\n",
    "\n",
    "x_train = training_data[:, 2:-1]\n",
    "y_train = training_data[:, -1]\n",
    "print(\"training\", x_train.shape, y_train.shape)\n",
    "\n",
    "x_test = testing_data[:, 2:-1]\n",
    "y_test = testing_data[:, -1]\n",
    "print(\"testing\", x_test.shape, y_test.shape)\n",
    "# 训练数据集 前面500个数据点所对应的rul 由图中可以看出  都是到零的了\n",
    "plt.figure(figsize=(15,2))\n",
    "plt.plot(y_train[:500], label=\"train\")\n",
    "plt.legend()\n",
    "plt.figure(figsize=(15,2))\n",
    "# 测试数据中前500个数据点对应的tul  可以看到结尾数据的rul 都不是中间\n",
    "plt.plot(y_test[:500], label=\"test\")\n",
    "plt.legend()\n",
    "plt.figure(figsize=(15,2))\n",
    "plt.plot(x_train[:190])\n",
    "plt.title(\"train: FD00\" + str(1))\n",
    "# 训练数据第一个id的 24个senor的值 可以通过在x轴坐标100的位置 序列的一些 趋势\n",
    "\n",
    "plt.show()"
   ]
  },
  {
   "cell_type": "code",
   "execution_count": 16,
   "metadata": {
    "scrolled": true
   },
   "outputs": [
    {
     "data": {
      "text/html": [
       "<div>\n",
       "<style scoped>\n",
       "    .dataframe tbody tr th:only-of-type {\n",
       "        vertical-align: middle;\n",
       "    }\n",
       "\n",
       "    .dataframe tbody tr th {\n",
       "        vertical-align: top;\n",
       "    }\n",
       "\n",
       "    .dataframe thead th {\n",
       "        text-align: right;\n",
       "    }\n",
       "</style>\n",
       "<table border=\"1\" class=\"dataframe\">\n",
       "  <thead>\n",
       "    <tr style=\"text-align: right;\">\n",
       "      <th></th>\n",
       "      <th>engine_id</th>\n",
       "      <th>cycle</th>\n",
       "      <th>s2</th>\n",
       "      <th>s3</th>\n",
       "      <th>s4</th>\n",
       "      <th>s7</th>\n",
       "      <th>s8</th>\n",
       "      <th>s9</th>\n",
       "      <th>s11</th>\n",
       "      <th>s12</th>\n",
       "      <th>s13</th>\n",
       "      <th>s14</th>\n",
       "      <th>s15</th>\n",
       "      <th>s17</th>\n",
       "      <th>s20</th>\n",
       "      <th>s21</th>\n",
       "      <th>RUL</th>\n",
       "    </tr>\n",
       "  </thead>\n",
       "  <tbody>\n",
       "    <tr>\n",
       "      <th>0</th>\n",
       "      <td>1</td>\n",
       "      <td>1</td>\n",
       "      <td>0.678061</td>\n",
       "      <td>-0.853530</td>\n",
       "      <td>-1.191451</td>\n",
       "      <td>0.601394</td>\n",
       "      <td>-0.798074</td>\n",
       "      <td>-0.682562</td>\n",
       "      <td>-1.277365</td>\n",
       "      <td>0.415604</td>\n",
       "      <td>-0.919819</td>\n",
       "      <td>-0.954212</td>\n",
       "      <td>-0.985083</td>\n",
       "      <td>-0.781691</td>\n",
       "      <td>0.241938</td>\n",
       "      <td>0.774078</td>\n",
       "      <td>125</td>\n",
       "    </tr>\n",
       "    <tr>\n",
       "      <th>1</th>\n",
       "      <td>1</td>\n",
       "      <td>2</td>\n",
       "      <td>-1.941660</td>\n",
       "      <td>-0.338129</td>\n",
       "      <td>-1.501430</td>\n",
       "      <td>1.674728</td>\n",
       "      <td>-1.220695</td>\n",
       "      <td>-0.490106</td>\n",
       "      <td>-0.154137</td>\n",
       "      <td>1.012171</td>\n",
       "      <td>-0.502683</td>\n",
       "      <td>-0.216643</td>\n",
       "      <td>-1.648994</td>\n",
       "      <td>-0.136014</td>\n",
       "      <td>1.127156</td>\n",
       "      <td>0.941282</td>\n",
       "      <td>125</td>\n",
       "    </tr>\n",
       "    <tr>\n",
       "      <th>2</th>\n",
       "      <td>1</td>\n",
       "      <td>3</td>\n",
       "      <td>-0.441820</td>\n",
       "      <td>-0.584412</td>\n",
       "      <td>-0.843697</td>\n",
       "      <td>0.838657</td>\n",
       "      <td>-0.657200</td>\n",
       "      <td>-0.375084</td>\n",
       "      <td>-0.154137</td>\n",
       "      <td>0.754562</td>\n",
       "      <td>-0.919819</td>\n",
       "      <td>-0.715695</td>\n",
       "      <td>0.052111</td>\n",
       "      <td>-0.136014</td>\n",
       "      <td>1.459112</td>\n",
       "      <td>1.172227</td>\n",
       "      <td>125</td>\n",
       "    </tr>\n",
       "    <tr>\n",
       "      <th>3</th>\n",
       "      <td>1</td>\n",
       "      <td>4</td>\n",
       "      <td>-0.481816</td>\n",
       "      <td>-1.044359</td>\n",
       "      <td>-0.279290</td>\n",
       "      <td>0.793464</td>\n",
       "      <td>-0.938948</td>\n",
       "      <td>-0.903548</td>\n",
       "      <td>-0.977838</td>\n",
       "      <td>-0.045380</td>\n",
       "      <td>-0.641728</td>\n",
       "      <td>-0.568915</td>\n",
       "      <td>-1.345035</td>\n",
       "      <td>-1.427367</td>\n",
       "      <td>1.016503</td>\n",
       "      <td>0.775926</td>\n",
       "      <td>125</td>\n",
       "    </tr>\n",
       "    <tr>\n",
       "      <th>4</th>\n",
       "      <td>1</td>\n",
       "      <td>5</td>\n",
       "      <td>-0.341831</td>\n",
       "      <td>-0.543637</td>\n",
       "      <td>-0.779257</td>\n",
       "      <td>0.895148</td>\n",
       "      <td>-1.220695</td>\n",
       "      <td>-0.937058</td>\n",
       "      <td>-0.865515</td>\n",
       "      <td>0.998612</td>\n",
       "      <td>-0.919819</td>\n",
       "      <td>-0.745051</td>\n",
       "      <td>-1.041076</td>\n",
       "      <td>-2.073044</td>\n",
       "      <td>0.961177</td>\n",
       "      <td>1.138971</td>\n",
       "      <td>125</td>\n",
       "    </tr>\n",
       "  </tbody>\n",
       "</table>\n",
       "</div>"
      ],
      "text/plain": [
       "   engine_id  cycle        s2        s3        s4        s7        s8  \\\n",
       "0          1      1  0.678061 -0.853530 -1.191451  0.601394 -0.798074   \n",
       "1          1      2 -1.941660 -0.338129 -1.501430  1.674728 -1.220695   \n",
       "2          1      3 -0.441820 -0.584412 -0.843697  0.838657 -0.657200   \n",
       "3          1      4 -0.481816 -1.044359 -0.279290  0.793464 -0.938948   \n",
       "4          1      5 -0.341831 -0.543637 -0.779257  0.895148 -1.220695   \n",
       "\n",
       "         s9       s11       s12       s13       s14       s15       s17  \\\n",
       "0 -0.682562 -1.277365  0.415604 -0.919819 -0.954212 -0.985083 -0.781691   \n",
       "1 -0.490106 -0.154137  1.012171 -0.502683 -0.216643 -1.648994 -0.136014   \n",
       "2 -0.375084 -0.154137  0.754562 -0.919819 -0.715695  0.052111 -0.136014   \n",
       "3 -0.903548 -0.977838 -0.045380 -0.641728 -0.568915 -1.345035 -1.427367   \n",
       "4 -0.937058 -0.865515  0.998612 -0.919819 -0.745051 -1.041076 -2.073044   \n",
       "\n",
       "        s20       s21  RUL  \n",
       "0  0.241938  0.774078  125  \n",
       "1  1.127156  0.941282  125  \n",
       "2  1.459112  1.172227  125  \n",
       "3  1.016503  0.775926  125  \n",
       "4  0.961177  1.138971  125  "
      ]
     },
     "execution_count": 16,
     "metadata": {},
     "output_type": "execute_result"
    }
   ],
   "source": [
    "test_FD001.head()"
   ]
  },
  {
   "cell_type": "markdown",
   "metadata": {},
   "source": [
    "# Feature extention"
   ]
  },
  {
   "cell_type": "markdown",
   "metadata": {},
   "source": [
    "## Difference with previous row"
   ]
  },
  {
   "cell_type": "code",
   "execution_count": 17,
   "metadata": {},
   "outputs": [],
   "source": [
    "#diff_periods=40\n",
    "#s2_diff = pd.diff()"
   ]
  },
  {
   "cell_type": "markdown",
   "metadata": {},
   "source": [
    "# Convolutional NN"
   ]
  },
  {
   "cell_type": "code",
   "execution_count": 18,
   "metadata": {},
   "outputs": [],
   "source": [
    "def batch_generator(training_data, sequence_length=15, window_size = 15):\n",
    "    \"\"\"\n",
    "    Generator function for creating random batches of training-data for many to many models\n",
    "    \"\"\"\n",
    "    engine_ids = list(training_data[\"engine_id\"].unique())\n",
    "    temp = training_data.copy()\n",
    "    # 把 每一段后一截给截掉，获取能够跑的index\n",
    "    for id_ in engine_ids:\n",
    "        indexes = temp[temp[\"engine_id\"] == id_].index\n",
    "        traj_data = temp.loc[indexes]\n",
    "        # cutoff_cycle 记录下这以后的index就不满足 序列大小的需求的\n",
    "        cutoff_cycle = max(traj_data['cycle']) - sequence_length - window_size + 1\n",
    "        \n",
    "        if cutoff_cycle<0:\n",
    "            # 也就是步长和窗口大小已经大于了该机器的已有周期数，全部都得扔掉\n",
    "            drop_range = indexes\n",
    "            print(\"有一些数据直接就被抛弃了，请合理设置窗口大小和时间长度\")\n",
    "        else:\n",
    "            cutoff_cycle_index = traj_data['cycle'][traj_data['cycle'] == cutoff_cycle+2].index\n",
    "            drop_range = list(range(cutoff_cycle_index[0], indexes[-1] + 1))\n",
    "            \n",
    "        temp.drop(drop_range, inplace=True)\n",
    "    indexes = temp.index\n",
    "    del temp\n",
    "    \n",
    "\n",
    "    x_shape = (len(indexes), sequence_length, window_size, 14)\n",
    "    x_batch = np.zeros(shape=x_shape, dtype=np.float32)\n",
    "    y_shape = (len(indexes), sequence_length)\n",
    "    y_batch = np.zeros(shape=y_shape, dtype=np.float32)\n",
    "    \n",
    "    # 第一个数据集\n",
    "    alt_index = indexes[0]\n",
    "    for batch_index, index in enumerate(indexes):\n",
    "        # 因为对齐的原因，都减去了1\n",
    "        y_batch[batch_index] = training_data.iloc[index+window_size-1:index+window_size-1+sequence_length,-1].values\n",
    "        \n",
    "        # 本来应该下面这个 for 循环的，但是考虑到循环的嵌套，跑太久了，而且窗口序列之间又有重复，那么减少循环的次数\n",
    "        # for seq in range(sequence_length):\n",
    "            # x_batch[index,seq] = training_data.iloc[idx+seq:idx+seq + window_size, 2:-1].values\n",
    "        \n",
    "        if index-alt_index==1 and batch_index!=0:\n",
    "            temp_window = training_data.iloc[index+sequence_length-1:index+sequence_length-1 + window_size, 2:-1].values.reshape(1,window_size,-1)\n",
    "            x_batch[batch_index] = np.concatenate((x_batch[batch_index-1][1:],temp_window))\n",
    "        else:\n",
    "            for seq in range(sequence_length):\n",
    "                x_batch[batch_index][seq] = training_data.iloc[index+seq:index+seq + window_size, 2:-1].values\n",
    "        alt_index = index\n",
    "    # 如果数据集过于大的情况下 应该使用yield来构成 循环的 generator、\n",
    "    \n",
    "    return x_batch, y_batch"
   ]
  },
  {
   "cell_type": "markdown",
   "metadata": {},
   "source": [
    "# Training CNNLSTM"
   ]
  },
  {
   "cell_type": "markdown",
   "metadata": {},
   "source": [
    "初始化seed"
   ]
  },
  {
   "cell_type": "code",
   "execution_count": 19,
   "metadata": {},
   "outputs": [],
   "source": [
    "import tensorflow as tf"
   ]
  },
  {
   "cell_type": "code",
   "execution_count": 20,
   "metadata": {},
   "outputs": [],
   "source": [
    "from tensorflow.keras.models import Sequential\n",
    "from tensorflow.keras.layers import Dense\n",
    "from tensorflow.keras.layers import Flatten\n",
    "from tensorflow.keras.layers import TimeDistributed\n",
    "#from tensorflow.keras.layers.convolutional import Conv3D\n",
    "#from tensorflow.keras.layers.convolutional_recurrent import ConvLSTM2D\n",
    "import tensorflow.keras as keras\n",
    "import tensorflow.keras.layers as layers"
   ]
  },
  {
   "cell_type": "code",
   "execution_count": 21,
   "metadata": {},
   "outputs": [
    {
     "data": {
      "text/plain": [
       "tensorflow.python.keras.layers.core.Dropout"
      ]
     },
     "execution_count": 21,
     "metadata": {},
     "output_type": "execute_result"
    }
   ],
   "source": [
    "from __future__ import absolute_import\n",
    "from __future__ import division\n",
    "from __future__ import print_function\n",
    "\n",
    "import numpy as np\n",
    "\n",
    "from tensorflow.python.keras import activations\n",
    "from tensorflow.python.keras import backend as K\n",
    "from tensorflow.python.keras import constraints\n",
    "from tensorflow.python.keras import initializers\n",
    "from tensorflow.python.keras import regularizers\n",
    "from tensorflow.python.keras.engine.base_layer import Layer\n",
    "from tensorflow.python.keras.layers.recurrent import DropoutRNNCellMixin\n",
    "from tensorflow.python.keras.utils import conv_utils\n",
    "from tensorflow.python.ops import array_ops\n",
    "from tensorflow.python.util.tf_export import keras_export\n",
    "from tensorflow.compat.v2.keras.layers import ConvLSTM2D\n",
    "from tensorflow.keras.models import Sequential\n",
    "from tensorflow.keras.layers import Dense\n",
    "from tensorflow.keras.layers import Flatten\n",
    "from tensorflow.keras.layers import TimeDistributed\n",
    "#from tensorflow.keras.layers.convolutional import Conv3D\n",
    "#from tensorflow.keras.layers.convolutional_recurrent import ConvLSTM2D\n",
    "import tensorflow.keras as keras\n",
    "import tensorflow.keras.layers as layers\n",
    "from tensorflow.python.keras.layers.recurrent import RNN\n",
    "from tensorflow.python.keras.utils import tf_utils\n",
    "from tensorflow.python.keras.engine.input_spec import InputSpec\n",
    "from tensorflow.python.keras.layers.recurrent import _standardize_args\n",
    "from tensorflow.python.keras.utils import generic_utils\n",
    "tf.compat.v2.keras.layers.Dropout"
   ]
  },
  {
   "cell_type": "markdown",
   "metadata": {},
   "source": [
    "# conv_lstm"
   ]
  },
  {
   "cell_type": "code",
   "execution_count": 22,
   "metadata": {},
   "outputs": [],
   "source": [
    "sequence_length=5\n",
    "window_size = 24\n",
    "kernel_size = 3"
   ]
  },
  {
   "cell_type": "code",
   "execution_count": 23,
   "metadata": {},
   "outputs": [],
   "source": [
    "x_batch, y_batch =batch_generator(train_FD001,sequence_length=sequence_length,window_size = window_size)\n",
    "# 这里需要把输入数据增加一个channel层数\n",
    "x_batch = np.expand_dims(x_batch, axis=4)\n",
    "y_batch = np.expand_dims(y_batch, axis=2)"
   ]
  },
  {
   "cell_type": "code",
   "execution_count": 24,
   "metadata": {},
   "outputs": [],
   "source": [
    "from ConvLSTM2D_2 import ConvLSTM2D_2"
   ]
  },
  {
   "cell_type": "code",
   "execution_count": 25,
   "metadata": {
    "scrolled": true
   },
   "outputs": [],
   "source": [
    "model =Sequential()\n",
    "# input 的shape 应该是 （时间，行-window，列-sensor， channels）\n",
    "# 参数个数怎么算？？？为啥改变filter个数，参数个数不是按比例增长\n",
    "# 增加batch ？ 增加 dropout??\n",
    "model.add(ConvLSTM2D_2(filters=10, kernel_size=(kernel_size, 14),input_shape=(None, window_size, 14, 1), padding='valid', return_sequences=True))\n",
    "model.add(keras.layers.BatchNormalization())\n",
    "model.add(ConvLSTM2D_2(filters=20, kernel_size=(kernel_size, 1),padding='valid', return_sequences=True))\n",
    "model.add(keras.layers.BatchNormalization())\n",
    "model.add(TimeDistributed(Flatten()))\n",
    "model.add(tf.compat.v2.keras.layers.Dropout(0.5))\n",
    "model.add(TimeDistributed(Dense(units = 100, activation = \"linear\")))\n",
    "model.add(TimeDistributed(Dense(units = 1, activation = \"linear\")))\n",
    "model.compile(loss='mse', optimizer='Adam')"
   ]
  },
  {
   "cell_type": "code",
   "execution_count": 26,
   "metadata": {},
   "outputs": [
    {
     "name": "stdout",
     "output_type": "stream",
     "text": [
      "Model: \"sequential\"\n",
      "_________________________________________________________________\n",
      "Layer (type)                 Output Shape              Param #   \n",
      "=================================================================\n",
      "conv_lst_m2d_2 (ConvLSTM2D_2 (None, None, 20, 1, 10)   20140     \n",
      "_________________________________________________________________\n",
      "batch_normalization (BatchNo (None, None, 20, 1, 10)   40        \n",
      "_________________________________________________________________\n",
      "conv_lst_m2d_2_1 (ConvLSTM2D (None, None, 16, 1, 20)   15680     \n",
      "_________________________________________________________________\n",
      "batch_normalization_1 (Batch (None, None, 16, 1, 20)   80        \n",
      "_________________________________________________________________\n",
      "time_distributed (TimeDistri (None, None, 320)         0         \n",
      "_________________________________________________________________\n",
      "dropout (Dropout)            (None, None, 320)         0         \n",
      "_________________________________________________________________\n",
      "time_distributed_1 (TimeDist (None, None, 100)         32100     \n",
      "_________________________________________________________________\n",
      "time_distributed_2 (TimeDist (None, None, 1)           101       \n",
      "=================================================================\n",
      "Total params: 68,141\n",
      "Trainable params: 68,081\n",
      "Non-trainable params: 60\n",
      "_________________________________________________________________\n",
      "None\n"
     ]
    }
   ],
   "source": [
    "print(model.summary())"
   ]
  },
  {
   "cell_type": "code",
   "execution_count": 27,
   "metadata": {
    "scrolled": true
   },
   "outputs": [
    {
     "name": "stdout",
     "output_type": "stream",
     "text": [
      "Train on 17034 samples, validate on 897 samples\n",
      "Epoch 1/30\n",
      "17034/17034 [==============================] - 45s 3ms/sample - loss: 788.5718 - val_loss: 279.5910\n",
      "Epoch 2/30\n",
      "17034/17034 [==============================] - 40s 2ms/sample - loss: 313.4145 - val_loss: 279.0521\n",
      "Epoch 3/30\n",
      "17034/17034 [==============================] - 40s 2ms/sample - loss: 279.2752 - val_loss: 283.0286\n",
      "Epoch 4/30\n",
      "17034/17034 [==============================] - 40s 2ms/sample - loss: 257.1512 - val_loss: 326.5483\n",
      "Epoch 5/30\n",
      "17034/17034 [==============================] - 39s 2ms/sample - loss: 235.2886 - val_loss: 326.8704\n",
      "Epoch 6/30\n",
      "17034/17034 [==============================] - 39s 2ms/sample - loss: 208.6582 - val_loss: 420.6465\n",
      "Epoch 7/30\n",
      "17034/17034 [==============================] - 40s 2ms/sample - loss: 180.6123 - val_loss: 409.2254\n",
      "Epoch 8/30\n",
      "17034/17034 [==============================] - 40s 2ms/sample - loss: 163.0480 - val_loss: 357.6339\n",
      "Epoch 9/30\n",
      "17034/17034 [==============================] - 39s 2ms/sample - loss: 147.4776 - val_loss: 418.7536\n",
      "Epoch 10/30\n",
      "17034/17034 [==============================] - 39s 2ms/sample - loss: 138.7012 - val_loss: 418.5773\n",
      "Epoch 11/30\n",
      "17034/17034 [==============================] - 40s 2ms/sample - loss: 120.9699 - val_loss: 447.9759\n",
      "Epoch 12/30\n",
      "17034/17034 [==============================] - 39s 2ms/sample - loss: 111.6688 - val_loss: 323.6913\n",
      "Epoch 13/30\n",
      "17034/17034 [==============================] - 40s 2ms/sample - loss: 103.7645 - val_loss: 354.8593\n",
      "Epoch 14/30\n",
      "17034/17034 [==============================] - 40s 2ms/sample - loss: 97.4166 - val_loss: 339.1644\n",
      "Epoch 15/30\n",
      "17034/17034 [==============================] - 40s 2ms/sample - loss: 92.3987 - val_loss: 351.7834\n",
      "Epoch 16/30\n",
      "17034/17034 [==============================] - 40s 2ms/sample - loss: 87.5819 - val_loss: 396.5751\n",
      "Epoch 17/30\n",
      "17034/17034 [==============================] - 39s 2ms/sample - loss: 80.3546 - val_loss: 407.6817\n",
      "Epoch 18/30\n",
      "17034/17034 [==============================] - 40s 2ms/sample - loss: 76.2383 - val_loss: 352.4387\n",
      "Epoch 19/30\n",
      "17034/17034 [==============================] - 39s 2ms/sample - loss: 74.6566 - val_loss: 337.9593\n",
      "Epoch 20/30\n",
      "17034/17034 [==============================] - 39s 2ms/sample - loss: 69.5901 - val_loss: 365.6707\n",
      "Epoch 21/30\n",
      "17034/17034 [==============================] - 39s 2ms/sample - loss: 65.3857 - val_loss: 410.4300\n",
      "Epoch 22/30\n",
      "17034/17034 [==============================] - 39s 2ms/sample - loss: 61.4243 - val_loss: 417.5813\n",
      "Epoch 23/30\n",
      "17034/17034 [==============================] - 39s 2ms/sample - loss: 58.9258 - val_loss: 376.4726\n",
      "Epoch 24/30\n",
      "17034/17034 [==============================] - 39s 2ms/sample - loss: 59.6593 - val_loss: 402.7212\n",
      "Epoch 25/30\n",
      "17034/17034 [==============================] - 40s 2ms/sample - loss: 53.8136 - val_loss: 363.1790\n",
      "Epoch 26/30\n",
      "17034/17034 [==============================] - 39s 2ms/sample - loss: 52.2340 - val_loss: 434.6999\n",
      "Epoch 27/30\n",
      "17034/17034 [==============================] - 39s 2ms/sample - loss: 50.2460 - val_loss: 426.0320\n",
      "Epoch 28/30\n",
      "17034/17034 [==============================] - 39s 2ms/sample - loss: 50.2763 - val_loss: 385.2315\n",
      "Epoch 29/30\n",
      "17034/17034 [==============================] - 39s 2ms/sample - loss: 48.4258 - val_loss: 390.3927\n",
      "Epoch 30/30\n",
      "17034/17034 [==============================] - 39s 2ms/sample - loss: 46.1083 - val_loss: 375.8545\n"
     ]
    },
    {
     "data": {
      "text/plain": [
       "<tensorflow.python.keras.callbacks.History at 0x18eda4e6a48>"
      ]
     },
     "execution_count": 27,
     "metadata": {},
     "output_type": "execute_result"
    }
   ],
   "source": [
    "model.fit(x_batch,y_batch, batch_size=15, epochs=30, validation_split=0.05)"
   ]
  },
  {
   "cell_type": "markdown",
   "metadata": {},
   "source": [
    "# Evaluation"
   ]
  },
  {
   "cell_type": "markdown",
   "metadata": {},
   "source": [
    "## Tranining Performance"
   ]
  },
  {
   "cell_type": "code",
   "execution_count": 28,
   "metadata": {},
   "outputs": [],
   "source": [
    "y_batch_pred = model.predict(x_batch)"
   ]
  },
  {
   "cell_type": "code",
   "execution_count": 29,
   "metadata": {},
   "outputs": [
    {
     "data": {
      "text/plain": [
       "6.0981393"
      ]
     },
     "execution_count": 29,
     "metadata": {},
     "output_type": "execute_result"
    }
   ],
   "source": [
    "from sklearn.metrics import mean_squared_error\n",
    "y_batch_pred = y_batch_pred.reshape(y_batch_pred.shape[0], y_batch_pred.shape[1])\n",
    "y_batch_reshape = y_batch.reshape(y_batch.shape[0], y_batch.shape[1])\n",
    "np.sqrt(mean_squared_error(y_batch_pred, y_batch_reshape))"
   ]
  },
  {
   "cell_type": "markdown",
   "metadata": {},
   "source": [
    "    这个结果有点牛逼，但是有可能是overfitting了，需要在测试集上面验证。"
   ]
  },
  {
   "cell_type": "markdown",
   "metadata": {},
   "source": [
    "## Test Performance"
   ]
  },
  {
   "cell_type": "markdown",
   "metadata": {},
   "source": [
    "## Evaluation Method 1\n",
    "    只验证最后一个值是否正确，也就是Ground Truth文件夹中的值"
   ]
  },
  {
   "cell_type": "code",
   "execution_count": 30,
   "metadata": {},
   "outputs": [],
   "source": [
    "def test_batch_generator(test_data, sequence_length=15, window_size = 15):\n",
    "    \"\"\"\n",
    "    这里的seq 和 win size 必须要和前面training的一致\n",
    "    \"\"\"\n",
    "    engine_ids = list(test_data[\"engine_id\"].unique())\n",
    "    index_list=[]\n",
    "    temp = test_data.copy()\n",
    "    for id_ in engine_ids:\n",
    "        indexes = temp[temp[\"engine_id\"] == id_].index\n",
    "        traj_data = temp.loc[indexes]\n",
    "        # 找到对应的index，index以前的数据相当于抛弃了，，这个有待改进\n",
    "        cutoff_cycle = max(traj_data['cycle']) - sequence_length - window_size + 2\n",
    "        \n",
    "        if cutoff_cycle<0:\n",
    "            # 也就是步长和窗口大小已经大于了该机器的已有周期数，全部都得扔掉\n",
    "            print(\"有一些数据直接就被抛弃了，请合理设置窗口大小和时间长度\")\n",
    "        else:\n",
    "            cutoff_cycle_index = traj_data['cycle'][traj_data['cycle'] == cutoff_cycle].index\n",
    "            index_list.append(cutoff_cycle_index.values[0])\n",
    "            \n",
    "\n",
    "    del temp\n",
    "    \n",
    "\n",
    "    x_shape = (len(index_list), sequence_length, window_size, 14)\n",
    "    x_batch = np.zeros(shape=x_shape, dtype=np.float32)\n",
    "    y_shape = (len(index_list), sequence_length)\n",
    "    y_batch = np.zeros(shape=y_shape, dtype=np.float32)\n",
    "    \n",
    "\n",
    "\n",
    "    for test_index, index in enumerate(index_list):\n",
    "        y_batch[test_index] = test_data.iloc[index+window_size-1:index+window_size-1+sequence_length,-1].values\n",
    "        \n",
    "        for seq in range(sequence_length):\n",
    "            x_batch[test_index][seq] = test_data.iloc[index+seq:index+seq + window_size, 2:-1].values\n",
    "    # 如果数据集过于大的情况下 应该使用yield来构成 循环的 generator、\n",
    "    \n",
    "    return x_batch, y_batch"
   ]
  },
  {
   "cell_type": "code",
   "execution_count": 31,
   "metadata": {},
   "outputs": [],
   "source": [
    "x_batch_test, y_batch_test =  test_batch_generator(test_FD001, sequence_length=sequence_length,window_size = window_size)\n",
    "x_batch_test = np.expand_dims(x_batch_test, axis=4)"
   ]
  },
  {
   "cell_type": "code",
   "execution_count": 32,
   "metadata": {},
   "outputs": [],
   "source": [
    "y_batch_pred_test = model.predict(x_batch_test)"
   ]
  },
  {
   "cell_type": "code",
   "execution_count": 33,
   "metadata": {},
   "outputs": [],
   "source": [
    "c = y_batch_pred_test\n"
   ]
  },
  {
   "cell_type": "code",
   "execution_count": 34,
   "metadata": {},
   "outputs": [],
   "source": [
    "y_batch_pred_test = y_batch_pred_test.reshape(y_batch_pred_test.shape[0],y_batch_pred_test.shape[1])\n",
    "y_batch_pred_last_values_test = [i[-1] for i in y_batch_pred_test]\n",
    "y_batch_last_values_test = [i[-1] for i in y_batch_test]"
   ]
  },
  {
   "cell_type": "code",
   "execution_count": 35,
   "metadata": {},
   "outputs": [
    {
     "data": {
      "text/plain": [
       "16.25638"
      ]
     },
     "execution_count": 35,
     "metadata": {},
     "output_type": "execute_result"
    }
   ],
   "source": [
    "np.sqrt(mean_squared_error(y_batch_pred_last_values_test, y_batch_last_values_test))"
   ]
  },
  {
   "cell_type": "markdown",
   "metadata": {},
   "source": [
    "这里只是RMSE ,还要写其他的 custom metric"
   ]
  },
  {
   "cell_type": "code",
   "execution_count": 36,
   "metadata": {},
   "outputs": [
    {
     "name": "stdout",
     "output_type": "stream",
     "text": [
      "(100, 5)\n",
      "(100, 5)\n"
     ]
    }
   ],
   "source": [
    "print(y_batch_test.shape)\n",
    "y_batch_reshape_test = y_batch_test.reshape(y_batch_test.shape[0],y_batch_test.shape[1])\n",
    "print(y_batch_test.shape)"
   ]
  },
  {
   "cell_type": "code",
   "execution_count": 37,
   "metadata": {},
   "outputs": [],
   "source": [
    "y_pre_test =  model.predict(x_batch_test)"
   ]
  },
  {
   "cell_type": "code",
   "execution_count": 38,
   "metadata": {},
   "outputs": [
    {
     "name": "stdout",
     "output_type": "stream",
     "text": [
      "(100, 5, 1)\n"
     ]
    }
   ],
   "source": [
    "print(y_pre_test.shape)\n",
    "y_pre_reshape_test = y_pre_test.reshape(y_batch_test.shape[0],y_batch_test.shape[1])"
   ]
  },
  {
   "cell_type": "code",
   "execution_count": 39,
   "metadata": {},
   "outputs": [
    {
     "data": {
      "text/plain": [
       "16.800486"
      ]
     },
     "execution_count": 39,
     "metadata": {},
     "output_type": "execute_result"
    }
   ],
   "source": [
    "np.sqrt(mean_squared_error(y_pre_reshape_test, y_batch_reshape_test))"
   ]
  },
  {
   "cell_type": "markdown",
   "metadata": {},
   "source": [
    "# Save Model"
   ]
  },
  {
   "cell_type": "code",
   "execution_count": 40,
   "metadata": {},
   "outputs": [],
   "source": [
    "#model.save('D:/master_arbeit/model_32_33.h5')"
   ]
  },
  {
   "cell_type": "code",
   "execution_count": null,
   "metadata": {},
   "outputs": [],
   "source": []
  },
  {
   "cell_type": "code",
   "execution_count": null,
   "metadata": {},
   "outputs": [],
   "source": []
  },
  {
   "cell_type": "code",
   "execution_count": null,
   "metadata": {},
   "outputs": [],
   "source": []
  },
  {
   "cell_type": "code",
   "execution_count": null,
   "metadata": {},
   "outputs": [],
   "source": []
  },
  {
   "cell_type": "code",
   "execution_count": null,
   "metadata": {},
   "outputs": [],
   "source": []
  },
  {
   "cell_type": "code",
   "execution_count": null,
   "metadata": {},
   "outputs": [],
   "source": []
  },
  {
   "cell_type": "code",
   "execution_count": null,
   "metadata": {},
   "outputs": [],
   "source": []
  },
  {
   "cell_type": "code",
   "execution_count": null,
   "metadata": {},
   "outputs": [],
   "source": []
  }
 ],
 "metadata": {
  "kernelspec": {
   "display_name": "Python 3",
   "language": "python",
   "name": "python3"
  },
  "language_info": {
   "codemirror_mode": {
    "name": "ipython",
    "version": 3
   },
   "file_extension": ".py",
   "mimetype": "text/x-python",
   "name": "python",
   "nbconvert_exporter": "python",
   "pygments_lexer": "ipython3",
   "version": "3.7.5"
  },
  "toc": {
   "base_numbering": 1,
   "nav_menu": {},
   "number_sections": true,
   "sideBar": true,
   "skip_h1_title": false,
   "title_cell": "Table of Contents",
   "title_sidebar": "Contents",
   "toc_cell": false,
   "toc_position": {
    "height": "calc(100% - 180px)",
    "left": "10px",
    "top": "150px",
    "width": "336px"
   },
   "toc_section_display": true,
   "toc_window_display": true
  }
 },
 "nbformat": 4,
 "nbformat_minor": 2
}
